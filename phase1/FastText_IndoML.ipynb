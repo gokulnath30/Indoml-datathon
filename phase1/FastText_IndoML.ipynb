{
  "cells": [
    {
      "cell_type": "markdown",
      "metadata": {
        "id": "LJRb33rOVCM-"
      },
      "source": [
        "### Installs"
      ]
    },
    {
      "cell_type": "code",
      "execution_count": 2,
      "metadata": {
        "colab": {
          "base_uri": "https://localhost:8080/"
        },
        "id": "E7OZv2-vVA0l",
        "outputId": "a6818fb5-92b4-48d1-ecd0-c6783c78cd3f"
      },
      "outputs": [
        {
          "name": "stdout",
          "output_type": "stream",
          "text": [
            "Collecting fasttext\n",
            "  Downloading fasttext-0.9.3.tar.gz (73 kB)\n",
            "  Installing build dependencies: started\n",
            "  Installing build dependencies: finished with status 'done'\n",
            "  Getting requirements to build wheel: started\n",
            "  Getting requirements to build wheel: finished with status 'done'\n",
            "  Preparing metadata (pyproject.toml): started\n",
            "  Preparing metadata (pyproject.toml): finished with status 'done'\n",
            "Collecting pybind11>=2.2 (from fasttext)\n",
            "  Using cached pybind11-2.13.5-py3-none-any.whl.metadata (9.5 kB)\n",
            "Collecting setuptools>=0.7.0 (from fasttext)\n",
            "  Using cached setuptools-74.0.0-py3-none-any.whl.metadata (6.7 kB)\n",
            "Collecting numpy (from fasttext)\n",
            "  Downloading numpy-2.1.0-cp312-cp312-win_amd64.whl.metadata (59 kB)\n",
            "Using cached pybind11-2.13.5-py3-none-any.whl (240 kB)\n",
            "Using cached setuptools-74.0.0-py3-none-any.whl (1.3 MB)\n",
            "Downloading numpy-2.1.0-cp312-cp312-win_amd64.whl (12.6 MB)\n",
            "   ---------------------------------------- 0.0/12.6 MB ? eta -:--:--\n",
            "   -------------- ------------------------- 4.5/12.6 MB 26.7 MB/s eta 0:00:01\n",
            "   ---------------------------------------  12.3/12.6 MB 35.1 MB/s eta 0:00:01\n",
            "   ---------------------------------------- 12.6/12.6 MB 31.5 MB/s eta 0:00:00\n",
            "Building wheels for collected packages: fasttext\n",
            "  Building wheel for fasttext (pyproject.toml): started\n",
            "  Building wheel for fasttext (pyproject.toml): finished with status 'error'\n",
            "Failed to build fasttext\n"
          ]
        },
        {
          "name": "stderr",
          "output_type": "stream",
          "text": [
            "  error: subprocess-exited-with-error\n",
            "  \n",
            "  × Building wheel for fasttext (pyproject.toml) did not run successfully.\n",
            "  │ exit code: 1\n",
            "  ╰─> [33 lines of output]\n",
            "      C:\\Users\\TGO3001\\AppData\\Local\\Temp\\1\\pip-build-env-8m9odq_7\\overlay\\Lib\\site-packages\\setuptools\\dist.py:452: SetuptoolsDeprecationWarning: Invalid dash-separated options\n",
            "      !!\n",
            "      \n",
            "              ********************************************************************************\n",
            "              Usage of dash-separated 'description-file' will not be supported in future\n",
            "              versions. Please use the underscore name 'description_file' instead.\n",
            "      \n",
            "              By 2024-Sep-26, you need to update your project and remove deprecated calls\n",
            "              or your builds will no longer be supported.\n",
            "      \n",
            "              See https://setuptools.pypa.io/en/latest/userguide/declarative_config.html for details.\n",
            "              ********************************************************************************\n",
            "      \n",
            "      !!\n",
            "        opt = self.warn_dash_deprecation(opt, section)\n",
            "      running bdist_wheel\n",
            "      running build\n",
            "      running build_py\n",
            "      creating build\n",
            "      creating build\\lib.win-amd64-cpython-312\n",
            "      creating build\\lib.win-amd64-cpython-312\\fasttext\n",
            "      copying python\\fasttext_module\\fasttext\\FastText.py -> build\\lib.win-amd64-cpython-312\\fasttext\n",
            "      copying python\\fasttext_module\\fasttext\\__init__.py -> build\\lib.win-amd64-cpython-312\\fasttext\n",
            "      creating build\\lib.win-amd64-cpython-312\\fasttext\\util\n",
            "      copying python\\fasttext_module\\fasttext\\util\\util.py -> build\\lib.win-amd64-cpython-312\\fasttext\\util\n",
            "      copying python\\fasttext_module\\fasttext\\util\\__init__.py -> build\\lib.win-amd64-cpython-312\\fasttext\\util\n",
            "      creating build\\lib.win-amd64-cpython-312\\fasttext\\tests\n",
            "      copying python\\fasttext_module\\fasttext\\tests\\test_configurations.py -> build\\lib.win-amd64-cpython-312\\fasttext\\tests\n",
            "      copying python\\fasttext_module\\fasttext\\tests\\test_script.py -> build\\lib.win-amd64-cpython-312\\fasttext\\tests\n",
            "      copying python\\fasttext_module\\fasttext\\tests\\__init__.py -> build\\lib.win-amd64-cpython-312\\fasttext\\tests\n",
            "      running build_ext\n",
            "      building 'fasttext_pybind' extension\n",
            "      error: Microsoft Visual C++ 14.0 or greater is required. Get it with \"Microsoft C++ Build Tools\": https://visualstudio.microsoft.com/visual-cpp-build-tools/\n",
            "      [end of output]\n",
            "  \n",
            "  note: This error originates from a subprocess, and is likely not a problem with pip.\n",
            "  ERROR: Failed building wheel for fasttext\n",
            "ERROR: ERROR: Failed to build installable wheels for some pyproject.toml based projects (fasttext)\n"
          ]
        }
      ],
      "source": [
        "! pip install fasttext"
      ]
    },
    {
      "cell_type": "markdown",
      "metadata": {
        "id": "siBKp3iuVGVe"
      },
      "source": [
        "### Imports"
      ]
    },
    {
      "cell_type": "code",
      "execution_count": 3,
      "metadata": {
        "id": "YZCkIQ2XVE_9"
      },
      "outputs": [
        {
          "ename": "ModuleNotFoundError",
          "evalue": "No module named 'fasttext'",
          "output_type": "error",
          "traceback": [
            "\u001b[1;31m---------------------------------------------------------------------------\u001b[0m",
            "\u001b[1;31mModuleNotFoundError\u001b[0m                       Traceback (most recent call last)",
            "Cell \u001b[1;32mIn[3], line 1\u001b[0m\n\u001b[1;32m----> 1\u001b[0m \u001b[38;5;28;01mimport\u001b[39;00m \u001b[38;5;21;01mfasttext\u001b[39;00m\n\u001b[0;32m      2\u001b[0m \u001b[38;5;28;01mimport\u001b[39;00m \u001b[38;5;21;01mpandas\u001b[39;00m \u001b[38;5;28;01mas\u001b[39;00m \u001b[38;5;21;01mpd\u001b[39;00m\n\u001b[0;32m      3\u001b[0m \u001b[38;5;28;01mfrom\u001b[39;00m \u001b[38;5;21;01mtqdm\u001b[39;00m \u001b[38;5;28;01mimport\u001b[39;00m tqdm\n",
            "\u001b[1;31mModuleNotFoundError\u001b[0m: No module named 'fasttext'"
          ]
        }
      ],
      "source": [
        "import fasttext\n",
        "import pandas as pd\n",
        "from tqdm import tqdm\n",
        "from sklearn.metrics import accuracy_score, precision_score, recall_score, f1_score"
      ]
    },
    {
      "cell_type": "markdown",
      "metadata": {
        "id": "7KEYismrVUPk"
      },
      "source": [
        "### Data Loading"
      ]
    },
    {
      "cell_type": "code",
      "execution_count": 3,
      "metadata": {
        "colab": {
          "base_uri": "https://localhost:8080/"
        },
        "id": "llW3OrVGVRsI",
        "outputId": "fb97391a-9158-4d5c-b8b5-47790167d1a3"
      },
      "outputs": [
        {
          "name": "stdout",
          "output_type": "stream",
          "text": [
            "Archive:  input_data.zip\n",
            "  inflating: attribute_test.data     \n",
            "  inflating: attribute_train.data    \n",
            "  inflating: attribute_train.solution  \n",
            "  inflating: attribute_val.data      \n",
            "  inflating: attribute_val.solution  \n"
          ]
        }
      ],
      "source": [
        "! unzip input_data.zip"
      ]
    },
    {
      "cell_type": "code",
      "execution_count": 75,
      "metadata": {
        "colab": {
          "base_uri": "https://localhost:8080/"
        },
        "id": "m8rAzmo8VYvD",
        "outputId": "4eb78218-035c-42c4-d1e6-50703f5629f8"
      },
      "outputs": [
        {
          "data": {
            "text/plain": [
              "((443499, 4), (443499, 7))"
            ]
          },
          "execution_count": 75,
          "metadata": {},
          "output_type": "execute_result"
        }
      ],
      "source": [
        "x_train_df = pd.read_json(\"./attribute_train.data\", lines=True)\n",
        "y_train_df = pd.read_json(\"./attribute_train.solution\", lines=True)\n",
        "\n",
        "x_train_df.shape, y_train_df.shape"
      ]
    },
    {
      "cell_type": "code",
      "execution_count": 76,
      "metadata": {
        "colab": {
          "base_uri": "https://localhost:8080/"
        },
        "id": "oxk2ELD5Vk9S",
        "outputId": "f9b03336-28ee-46e2-d99c-9f023da4a310"
      },
      "outputs": [
        {
          "data": {
            "text/plain": [
              "((95035, 4), (95035, 7))"
            ]
          },
          "execution_count": 76,
          "metadata": {},
          "output_type": "execute_result"
        }
      ],
      "source": [
        "x_val_df = pd.read_json(\"./attribute_val.data\", lines=True)\n",
        "y_val_df = pd.read_json(\"./attribute_val.solution\", lines=True)\n",
        "\n",
        "x_val_df.shape, y_val_df.shape"
      ]
    },
    {
      "cell_type": "code",
      "execution_count": 77,
      "metadata": {
        "colab": {
          "base_uri": "https://localhost:8080/"
        },
        "id": "nUeCa8KJWDie",
        "outputId": "d705949d-fe03-4c48-e679-8f4c7f3039b5"
      },
      "outputs": [
        {
          "data": {
            "text/plain": [
              "(95036, 4)"
            ]
          },
          "execution_count": 77,
          "metadata": {},
          "output_type": "execute_result"
        }
      ],
      "source": [
        "x_test_df = pd.read_json(\"./attribute_test.data\", lines=True)\n",
        "x_test_df.shape"
      ]
    },
    {
      "cell_type": "markdown",
      "metadata": {
        "id": "zU7nlHwaWUGu"
      },
      "source": [
        "### Preprocess"
      ]
    },
    {
      "cell_type": "code",
      "execution_count": 78,
      "metadata": {
        "id": "BzOT9IP2XFRs"
      },
      "outputs": [],
      "source": [
        "def preprocess(df):\n",
        "  df.fillna(\"None\", inplace=True)\n",
        "  df[\"features\"] = \"title: \" + df[\"title\"] + \" \" + \"store: \" + df[\"store\"] + \" \" + \"manufacturer: \" + df[\"details_Manufacturer\"]\n",
        "  df[\"details_Brand\"] = df[\"details_Brand\"].str.replace(' ', '%%')\n",
        "  df[\"L0_category\"] = df[\"L0_category\"].str.replace(' ', '%%')\n",
        "  df[\"L1_category\"] = df[\"L1_category\"].str.replace(' ', '%%')\n",
        "  df[\"L2_category\"] = df[\"L2_category\"].str.replace(' ', '%%')\n",
        "  df[\"L3_category\"] = df[\"L3_category\"].str.replace(' ', '%%')\n",
        "  df[\"L4_category\"] = df[\"L4_category\"].str.replace(' ', '%%')\n",
        "  df[\"label\"] = '__label__' + df[\"details_Brand\"] + '__' + df[\"L0_category\"] + '__' + df[\"L1_category\"] + '__' + df[\"L2_category\"] + '__' + df[\"L3_category\"] + '__' + df[\"L4_category\"]\n",
        "  df[\"training_row\"] = df[\"label\"] + ' ' + df[\"features\"]\n",
        "  return df\n"
      ]
    },
    {
      "cell_type": "code",
      "execution_count": 79,
      "metadata": {
        "colab": {
          "base_uri": "https://localhost:8080/",
          "height": 660
        },
        "id": "qBI672LgaRNu",
        "outputId": "3d74815a-86cd-4edd-e67a-547d442682e9"
      },
      "outputs": [
        {
          "data": {
            "application/vnd.google.colaboratory.intrinsic+json": {
              "type": "dataframe",
              "variable_name": "train_df"
            },
            "text/html": [
              "\n",
              "  <div id=\"df-99ff4873-6629-40c2-9d1a-7f35a99fd4e5\" class=\"colab-df-container\">\n",
              "    <div>\n",
              "<style scoped>\n",
              "    .dataframe tbody tr th:only-of-type {\n",
              "        vertical-align: middle;\n",
              "    }\n",
              "\n",
              "    .dataframe tbody tr th {\n",
              "        vertical-align: top;\n",
              "    }\n",
              "\n",
              "    .dataframe thead th {\n",
              "        text-align: right;\n",
              "    }\n",
              "</style>\n",
              "<table border=\"1\" class=\"dataframe\">\n",
              "  <thead>\n",
              "    <tr style=\"text-align: right;\">\n",
              "      <th></th>\n",
              "      <th>indoml_id</th>\n",
              "      <th>title</th>\n",
              "      <th>store</th>\n",
              "      <th>details_Manufacturer</th>\n",
              "      <th>details_Brand</th>\n",
              "      <th>L0_category</th>\n",
              "      <th>L1_category</th>\n",
              "      <th>L2_category</th>\n",
              "      <th>L3_category</th>\n",
              "      <th>L4_category</th>\n",
              "      <th>features</th>\n",
              "      <th>label</th>\n",
              "      <th>training_row</th>\n",
              "    </tr>\n",
              "  </thead>\n",
              "  <tbody>\n",
              "    <tr>\n",
              "      <th>0</th>\n",
              "      <td>0</td>\n",
              "      <td>Enclume Angled Pot Hook, Set of 6, Use with Po...</td>\n",
              "      <td>Enclume</td>\n",
              "      <td>Enclume</td>\n",
              "      <td>Enclume</td>\n",
              "      <td>Home%%&amp;%%Kitchen</td>\n",
              "      <td>Kitchen%%&amp;%%Dining</td>\n",
              "      <td>Storage%%&amp;%%Organization</td>\n",
              "      <td>Racks%%&amp;%%Holders</td>\n",
              "      <td>Pot%%Racks</td>\n",
              "      <td>title: Enclume Angled Pot Hook, Set of 6, Use ...</td>\n",
              "      <td>__label__Enclume__Home%%&amp;%%Kitchen__Kitchen%%&amp;...</td>\n",
              "      <td>__label__Enclume__Home%%&amp;%%Kitchen__Kitchen%%&amp;...</td>\n",
              "    </tr>\n",
              "    <tr>\n",
              "      <th>1</th>\n",
              "      <td>1</td>\n",
              "      <td>Schutt Vengeance DCT Hybrid Youth Football H</td>\n",
              "      <td>Schutt</td>\n",
              "      <td>Schutt</td>\n",
              "      <td>Schutt</td>\n",
              "      <td>Sports%%&amp;%%Outdoors</td>\n",
              "      <td>Sports</td>\n",
              "      <td>Team%%Sports</td>\n",
              "      <td>Football</td>\n",
              "      <td>Protective%%Gear</td>\n",
              "      <td>title: Schutt Vengeance DCT Hybrid Youth Footb...</td>\n",
              "      <td>__label__Schutt__Sports%%&amp;%%Outdoors__Sports__...</td>\n",
              "      <td>__label__Schutt__Sports%%&amp;%%Outdoors__Sports__...</td>\n",
              "    </tr>\n",
              "    <tr>\n",
              "      <th>2</th>\n",
              "      <td>2</td>\n",
              "      <td>Easton 2014 MAKO SL14MK9 Baseball Bat (-9)</td>\n",
              "      <td>Easton</td>\n",
              "      <td>Easton Sports, Inc.</td>\n",
              "      <td>Easton</td>\n",
              "      <td>Sports%%&amp;%%Outdoors</td>\n",
              "      <td>Sports</td>\n",
              "      <td>Team%%Sports</td>\n",
              "      <td>Baseball</td>\n",
              "      <td>Baseball%%Bats</td>\n",
              "      <td>title: Easton 2014 MAKO SL14MK9 Baseball Bat (...</td>\n",
              "      <td>__label__Easton__Sports%%&amp;%%Outdoors__Sports__...</td>\n",
              "      <td>__label__Easton__Sports%%&amp;%%Outdoors__Sports__...</td>\n",
              "    </tr>\n",
              "    <tr>\n",
              "      <th>3</th>\n",
              "      <td>3</td>\n",
              "      <td>Bilstein B46-0929 Heavy-Duty Gas Shock Absorber</td>\n",
              "      <td>Bilstein</td>\n",
              "      <td>Bilstein</td>\n",
              "      <td>Bilstein</td>\n",
              "      <td>Automotive</td>\n",
              "      <td>Replacement%%Parts</td>\n",
              "      <td>Shocks,%%Struts%%&amp;%%Suspension</td>\n",
              "      <td>Shocks</td>\n",
              "      <td>na</td>\n",
              "      <td>title: Bilstein B46-0929 Heavy-Duty Gas Shock ...</td>\n",
              "      <td>__label__Bilstein__Automotive__Replacement%%Pa...</td>\n",
              "      <td>__label__Bilstein__Automotive__Replacement%%Pa...</td>\n",
              "    </tr>\n",
              "    <tr>\n",
              "      <th>4</th>\n",
              "      <td>4</td>\n",
              "      <td>Apple Red Cardstock - 8.5 x 11 inch - 65Lb Cov...</td>\n",
              "      <td>Clear Path Paper</td>\n",
              "      <td>Clear Path Paper</td>\n",
              "      <td>Clear%%Path%%Paper</td>\n",
              "      <td>Arts,%%Crafts%%&amp;%%Sewing</td>\n",
              "      <td>Crafting</td>\n",
              "      <td>Paper%%&amp;%%Paper%%Crafts</td>\n",
              "      <td>Paper</td>\n",
              "      <td>Card%%Stock</td>\n",
              "      <td>title: Apple Red Cardstock - 8.5 x 11 inch - 6...</td>\n",
              "      <td>__label__Clear%%Path%%Paper__Arts,%%Crafts%%&amp;%...</td>\n",
              "      <td>__label__Clear%%Path%%Paper__Arts,%%Crafts%%&amp;%...</td>\n",
              "    </tr>\n",
              "  </tbody>\n",
              "</table>\n",
              "</div>\n",
              "    <div class=\"colab-df-buttons\">\n",
              "\n",
              "  <div class=\"colab-df-container\">\n",
              "    <button class=\"colab-df-convert\" onclick=\"convertToInteractive('df-99ff4873-6629-40c2-9d1a-7f35a99fd4e5')\"\n",
              "            title=\"Convert this dataframe to an interactive table.\"\n",
              "            style=\"display:none;\">\n",
              "\n",
              "  <svg xmlns=\"http://www.w3.org/2000/svg\" height=\"24px\" viewBox=\"0 -960 960 960\">\n",
              "    <path d=\"M120-120v-720h720v720H120Zm60-500h600v-160H180v160Zm220 220h160v-160H400v160Zm0 220h160v-160H400v160ZM180-400h160v-160H180v160Zm440 0h160v-160H620v160ZM180-180h160v-160H180v160Zm440 0h160v-160H620v160Z\"/>\n",
              "  </svg>\n",
              "    </button>\n",
              "\n",
              "  <style>\n",
              "    .colab-df-container {\n",
              "      display:flex;\n",
              "      gap: 12px;\n",
              "    }\n",
              "\n",
              "    .colab-df-convert {\n",
              "      background-color: #E8F0FE;\n",
              "      border: none;\n",
              "      border-radius: 50%;\n",
              "      cursor: pointer;\n",
              "      display: none;\n",
              "      fill: #1967D2;\n",
              "      height: 32px;\n",
              "      padding: 0 0 0 0;\n",
              "      width: 32px;\n",
              "    }\n",
              "\n",
              "    .colab-df-convert:hover {\n",
              "      background-color: #E2EBFA;\n",
              "      box-shadow: 0px 1px 2px rgba(60, 64, 67, 0.3), 0px 1px 3px 1px rgba(60, 64, 67, 0.15);\n",
              "      fill: #174EA6;\n",
              "    }\n",
              "\n",
              "    .colab-df-buttons div {\n",
              "      margin-bottom: 4px;\n",
              "    }\n",
              "\n",
              "    [theme=dark] .colab-df-convert {\n",
              "      background-color: #3B4455;\n",
              "      fill: #D2E3FC;\n",
              "    }\n",
              "\n",
              "    [theme=dark] .colab-df-convert:hover {\n",
              "      background-color: #434B5C;\n",
              "      box-shadow: 0px 1px 3px 1px rgba(0, 0, 0, 0.15);\n",
              "      filter: drop-shadow(0px 1px 2px rgba(0, 0, 0, 0.3));\n",
              "      fill: #FFFFFF;\n",
              "    }\n",
              "  </style>\n",
              "\n",
              "    <script>\n",
              "      const buttonEl =\n",
              "        document.querySelector('#df-99ff4873-6629-40c2-9d1a-7f35a99fd4e5 button.colab-df-convert');\n",
              "      buttonEl.style.display =\n",
              "        google.colab.kernel.accessAllowed ? 'block' : 'none';\n",
              "\n",
              "      async function convertToInteractive(key) {\n",
              "        const element = document.querySelector('#df-99ff4873-6629-40c2-9d1a-7f35a99fd4e5');\n",
              "        const dataTable =\n",
              "          await google.colab.kernel.invokeFunction('convertToInteractive',\n",
              "                                                    [key], {});\n",
              "        if (!dataTable) return;\n",
              "\n",
              "        const docLinkHtml = 'Like what you see? Visit the ' +\n",
              "          '<a target=\"_blank\" href=https://colab.research.google.com/notebooks/data_table.ipynb>data table notebook</a>'\n",
              "          + ' to learn more about interactive tables.';\n",
              "        element.innerHTML = '';\n",
              "        dataTable['output_type'] = 'display_data';\n",
              "        await google.colab.output.renderOutput(dataTable, element);\n",
              "        const docLink = document.createElement('div');\n",
              "        docLink.innerHTML = docLinkHtml;\n",
              "        element.appendChild(docLink);\n",
              "      }\n",
              "    </script>\n",
              "  </div>\n",
              "\n",
              "\n",
              "<div id=\"df-c2a0b258-5f4b-4a8d-9d7d-e0668739ed0d\">\n",
              "  <button class=\"colab-df-quickchart\" onclick=\"quickchart('df-c2a0b258-5f4b-4a8d-9d7d-e0668739ed0d')\"\n",
              "            title=\"Suggest charts\"\n",
              "            style=\"display:none;\">\n",
              "\n",
              "<svg xmlns=\"http://www.w3.org/2000/svg\" height=\"24px\"viewBox=\"0 0 24 24\"\n",
              "     width=\"24px\">\n",
              "    <g>\n",
              "        <path d=\"M19 3H5c-1.1 0-2 .9-2 2v14c0 1.1.9 2 2 2h14c1.1 0 2-.9 2-2V5c0-1.1-.9-2-2-2zM9 17H7v-7h2v7zm4 0h-2V7h2v10zm4 0h-2v-4h2v4z\"/>\n",
              "    </g>\n",
              "</svg>\n",
              "  </button>\n",
              "\n",
              "<style>\n",
              "  .colab-df-quickchart {\n",
              "      --bg-color: #E8F0FE;\n",
              "      --fill-color: #1967D2;\n",
              "      --hover-bg-color: #E2EBFA;\n",
              "      --hover-fill-color: #174EA6;\n",
              "      --disabled-fill-color: #AAA;\n",
              "      --disabled-bg-color: #DDD;\n",
              "  }\n",
              "\n",
              "  [theme=dark] .colab-df-quickchart {\n",
              "      --bg-color: #3B4455;\n",
              "      --fill-color: #D2E3FC;\n",
              "      --hover-bg-color: #434B5C;\n",
              "      --hover-fill-color: #FFFFFF;\n",
              "      --disabled-bg-color: #3B4455;\n",
              "      --disabled-fill-color: #666;\n",
              "  }\n",
              "\n",
              "  .colab-df-quickchart {\n",
              "    background-color: var(--bg-color);\n",
              "    border: none;\n",
              "    border-radius: 50%;\n",
              "    cursor: pointer;\n",
              "    display: none;\n",
              "    fill: var(--fill-color);\n",
              "    height: 32px;\n",
              "    padding: 0;\n",
              "    width: 32px;\n",
              "  }\n",
              "\n",
              "  .colab-df-quickchart:hover {\n",
              "    background-color: var(--hover-bg-color);\n",
              "    box-shadow: 0 1px 2px rgba(60, 64, 67, 0.3), 0 1px 3px 1px rgba(60, 64, 67, 0.15);\n",
              "    fill: var(--button-hover-fill-color);\n",
              "  }\n",
              "\n",
              "  .colab-df-quickchart-complete:disabled,\n",
              "  .colab-df-quickchart-complete:disabled:hover {\n",
              "    background-color: var(--disabled-bg-color);\n",
              "    fill: var(--disabled-fill-color);\n",
              "    box-shadow: none;\n",
              "  }\n",
              "\n",
              "  .colab-df-spinner {\n",
              "    border: 2px solid var(--fill-color);\n",
              "    border-color: transparent;\n",
              "    border-bottom-color: var(--fill-color);\n",
              "    animation:\n",
              "      spin 1s steps(1) infinite;\n",
              "  }\n",
              "\n",
              "  @keyframes spin {\n",
              "    0% {\n",
              "      border-color: transparent;\n",
              "      border-bottom-color: var(--fill-color);\n",
              "      border-left-color: var(--fill-color);\n",
              "    }\n",
              "    20% {\n",
              "      border-color: transparent;\n",
              "      border-left-color: var(--fill-color);\n",
              "      border-top-color: var(--fill-color);\n",
              "    }\n",
              "    30% {\n",
              "      border-color: transparent;\n",
              "      border-left-color: var(--fill-color);\n",
              "      border-top-color: var(--fill-color);\n",
              "      border-right-color: var(--fill-color);\n",
              "    }\n",
              "    40% {\n",
              "      border-color: transparent;\n",
              "      border-right-color: var(--fill-color);\n",
              "      border-top-color: var(--fill-color);\n",
              "    }\n",
              "    60% {\n",
              "      border-color: transparent;\n",
              "      border-right-color: var(--fill-color);\n",
              "    }\n",
              "    80% {\n",
              "      border-color: transparent;\n",
              "      border-right-color: var(--fill-color);\n",
              "      border-bottom-color: var(--fill-color);\n",
              "    }\n",
              "    90% {\n",
              "      border-color: transparent;\n",
              "      border-bottom-color: var(--fill-color);\n",
              "    }\n",
              "  }\n",
              "</style>\n",
              "\n",
              "  <script>\n",
              "    async function quickchart(key) {\n",
              "      const quickchartButtonEl =\n",
              "        document.querySelector('#' + key + ' button');\n",
              "      quickchartButtonEl.disabled = true;  // To prevent multiple clicks.\n",
              "      quickchartButtonEl.classList.add('colab-df-spinner');\n",
              "      try {\n",
              "        const charts = await google.colab.kernel.invokeFunction(\n",
              "            'suggestCharts', [key], {});\n",
              "      } catch (error) {\n",
              "        console.error('Error during call to suggestCharts:', error);\n",
              "      }\n",
              "      quickchartButtonEl.classList.remove('colab-df-spinner');\n",
              "      quickchartButtonEl.classList.add('colab-df-quickchart-complete');\n",
              "    }\n",
              "    (() => {\n",
              "      let quickchartButtonEl =\n",
              "        document.querySelector('#df-c2a0b258-5f4b-4a8d-9d7d-e0668739ed0d button');\n",
              "      quickchartButtonEl.style.display =\n",
              "        google.colab.kernel.accessAllowed ? 'block' : 'none';\n",
              "    })();\n",
              "  </script>\n",
              "</div>\n",
              "\n",
              "    </div>\n",
              "  </div>\n"
            ],
            "text/plain": [
              "   indoml_id                                              title  \\\n",
              "0          0  Enclume Angled Pot Hook, Set of 6, Use with Po...   \n",
              "1          1       Schutt Vengeance DCT Hybrid Youth Football H   \n",
              "2          2         Easton 2014 MAKO SL14MK9 Baseball Bat (-9)   \n",
              "3          3    Bilstein B46-0929 Heavy-Duty Gas Shock Absorber   \n",
              "4          4  Apple Red Cardstock - 8.5 x 11 inch - 65Lb Cov...   \n",
              "\n",
              "              store details_Manufacturer       details_Brand  \\\n",
              "0           Enclume              Enclume             Enclume   \n",
              "1            Schutt               Schutt              Schutt   \n",
              "2            Easton  Easton Sports, Inc.              Easton   \n",
              "3          Bilstein             Bilstein            Bilstein   \n",
              "4  Clear Path Paper     Clear Path Paper  Clear%%Path%%Paper   \n",
              "\n",
              "                L0_category         L1_category  \\\n",
              "0          Home%%&%%Kitchen  Kitchen%%&%%Dining   \n",
              "1       Sports%%&%%Outdoors              Sports   \n",
              "2       Sports%%&%%Outdoors              Sports   \n",
              "3                Automotive  Replacement%%Parts   \n",
              "4  Arts,%%Crafts%%&%%Sewing            Crafting   \n",
              "\n",
              "                      L2_category        L3_category       L4_category  \\\n",
              "0        Storage%%&%%Organization  Racks%%&%%Holders        Pot%%Racks   \n",
              "1                    Team%%Sports           Football  Protective%%Gear   \n",
              "2                    Team%%Sports           Baseball    Baseball%%Bats   \n",
              "3  Shocks,%%Struts%%&%%Suspension             Shocks                na   \n",
              "4         Paper%%&%%Paper%%Crafts              Paper       Card%%Stock   \n",
              "\n",
              "                                            features  \\\n",
              "0  title: Enclume Angled Pot Hook, Set of 6, Use ...   \n",
              "1  title: Schutt Vengeance DCT Hybrid Youth Footb...   \n",
              "2  title: Easton 2014 MAKO SL14MK9 Baseball Bat (...   \n",
              "3  title: Bilstein B46-0929 Heavy-Duty Gas Shock ...   \n",
              "4  title: Apple Red Cardstock - 8.5 x 11 inch - 6...   \n",
              "\n",
              "                                               label  \\\n",
              "0  __label__Enclume__Home%%&%%Kitchen__Kitchen%%&...   \n",
              "1  __label__Schutt__Sports%%&%%Outdoors__Sports__...   \n",
              "2  __label__Easton__Sports%%&%%Outdoors__Sports__...   \n",
              "3  __label__Bilstein__Automotive__Replacement%%Pa...   \n",
              "4  __label__Clear%%Path%%Paper__Arts,%%Crafts%%&%...   \n",
              "\n",
              "                                        training_row  \n",
              "0  __label__Enclume__Home%%&%%Kitchen__Kitchen%%&...  \n",
              "1  __label__Schutt__Sports%%&%%Outdoors__Sports__...  \n",
              "2  __label__Easton__Sports%%&%%Outdoors__Sports__...  \n",
              "3  __label__Bilstein__Automotive__Replacement%%Pa...  \n",
              "4  __label__Clear%%Path%%Paper__Arts,%%Crafts%%&%...  "
            ]
          },
          "execution_count": 79,
          "metadata": {},
          "output_type": "execute_result"
        }
      ],
      "source": [
        "x_train_df.sort_values(by=\"indoml_id\", ascending=True, inplace=True)\n",
        "y_train_df.sort_values(by=\"indoml_id\", ascending=True, inplace=True)\n",
        "\n",
        "train_df = pd.concat([x_train_df, y_train_df.drop(\"indoml_id\", axis=1)], axis=1)\n",
        "\n",
        "train_df = preprocess(train_df)\n",
        "\n",
        "train_df.head()"
      ]
    },
    {
      "cell_type": "code",
      "execution_count": 80,
      "metadata": {
        "colab": {
          "base_uri": "https://localhost:8080/",
          "height": 694
        },
        "id": "rcnCRaF_Znq7",
        "outputId": "d1595897-f40b-4834-c321-99503d7f9116"
      },
      "outputs": [
        {
          "data": {
            "application/vnd.google.colaboratory.intrinsic+json": {
              "summary": "{\n  \"name\": \"val_df\",\n  \"rows\": 95035,\n  \"fields\": [\n    {\n      \"column\": \"indoml_id\",\n      \"properties\": {\n        \"dtype\": \"number\",\n        \"std\": 27434,\n        \"min\": 0,\n        \"max\": 95034,\n        \"num_unique_values\": 95035,\n        \"samples\": [\n          15236,\n          17689,\n          17961\n        ],\n        \"semantic_type\": \"\",\n        \"description\": \"\"\n      }\n    },\n    {\n      \"column\": \"title\",\n      \"properties\": {\n        \"dtype\": \"string\",\n        \"num_unique_values\": 94502,\n        \"samples\": [\n          \"Lyman 401654 DC Mould 40/10mm 150 Grains Pistol Bullet Mould\",\n          \"Raybestos 980160 Advanced Technology Disc Brake Rotor\",\n          \"Kastar Charger with Car Adapter for Sony NP-FH50, FH30, FH70, FH100 Battery and Sony DCR-SX41 DCR-SX41L DCR-SX41R Camcorder\"\n        ],\n        \"semantic_type\": \"\",\n        \"description\": \"\"\n      }\n    },\n    {\n      \"column\": \"store\",\n      \"properties\": {\n        \"dtype\": \"category\",\n        \"num_unique_values\": 5249,\n        \"samples\": [\n          \"PTC\",\n          \"Mirage Pet Products\",\n          \"RAM MOUNTS\"\n        ],\n        \"semantic_type\": \"\",\n        \"description\": \"\"\n      }\n    },\n    {\n      \"column\": \"details_Manufacturer\",\n      \"properties\": {\n        \"dtype\": \"category\",\n        \"num_unique_values\": 11291,\n        \"samples\": [\n          \"Z-Man\",\n          \"Spellbinders\",\n          \"Scosche\"\n        ],\n        \"semantic_type\": \"\",\n        \"description\": \"\"\n      }\n    },\n    {\n      \"column\": \"details_Brand\",\n      \"properties\": {\n        \"dtype\": \"category\",\n        \"num_unique_values\": 5066,\n        \"samples\": [\n          \"GE\",\n          \"GoBadges\",\n          \"Shinobi%%Stickers\"\n        ],\n        \"semantic_type\": \"\",\n        \"description\": \"\"\n      }\n    },\n    {\n      \"column\": \"L0_category\",\n      \"properties\": {\n        \"dtype\": \"category\",\n        \"num_unique_values\": 27,\n        \"samples\": [\n          \"Industrial%%&%%Scientific\",\n          \"Motorcycle%%&%%Powersports\",\n          \"Patio,%%Lawn%%&%%Garden\"\n        ],\n        \"semantic_type\": \"\",\n        \"description\": \"\"\n      }\n    },\n    {\n      \"column\": \"L1_category\",\n      \"properties\": {\n        \"dtype\": \"category\",\n        \"num_unique_values\": 163,\n        \"samples\": [\n          \"Activity%%&%%Entertainment\",\n          \"Fragrance\",\n          \"Car%%Seats%%&%%Accessories\"\n        ],\n        \"semantic_type\": \"\",\n        \"description\": \"\"\n      }\n    },\n    {\n      \"column\": \"L2_category\",\n      \"properties\": {\n        \"dtype\": \"category\",\n        \"num_unique_values\": 612,\n        \"samples\": [\n          \"Filters\",\n          \"Paint%%&%%Primer\",\n          \"Tactical%%&%%Personal%%Defense\"\n        ],\n        \"semantic_type\": \"\",\n        \"description\": \"\"\n      }\n    },\n    {\n      \"column\": \"L3_category\",\n      \"properties\": {\n        \"dtype\": \"category\",\n        \"num_unique_values\": 1252,\n        \"samples\": [\n          \"Football\",\n          \"Adhesives%%&%%Glue\",\n          \"Interfacing\"\n        ],\n        \"semantic_type\": \"\",\n        \"description\": \"\"\n      }\n    },\n    {\n      \"column\": \"L4_category\",\n      \"properties\": {\n        \"dtype\": \"category\",\n        \"num_unique_values\": 962,\n        \"samples\": [\n          \"Spinners%%&%%Spinnerbaits\",\n          \"Home%%Office%%Desk%%Chairs\",\n          \"Computer%%Cases\"\n        ],\n        \"semantic_type\": \"\",\n        \"description\": \"\"\n      }\n    },\n    {\n      \"column\": \"features\",\n      \"properties\": {\n        \"dtype\": \"string\",\n        \"num_unique_values\": 94543,\n        \"samples\": [\n          \"title: Hefty Ultra Strong Tall Kitchen Drawstring Trash Bag, Blackout Scent Free, 20 Count store: Hefty manufacturer: Hefty\",\n          \"title: Flowmaster 2020023 Catalytic Converter 99-04 Mustang 3.8L Df store: Flowmaster manufacturer: Flowmaster\",\n          \"title: LB1 High Performance Battery for HP 620 625 425 ProBook 4320 4321 4520 4525s 4720s Compaq 320 325 420 425 620 store: LB1 High Performance manufacturer: AD 888, LP (dba LaptopBatteryOne.com)\"\n        ],\n        \"semantic_type\": \"\",\n        \"description\": \"\"\n      }\n    },\n    {\n      \"column\": \"label\",\n      \"properties\": {\n        \"dtype\": \"category\",\n        \"num_unique_values\": 8362,\n        \"samples\": [\n          \"__label__Dorman__Automotive__Replacement%%Parts__Engines%%&%%Engine%%Parts__Engine%%Parts__Valves%%&%%Parts\",\n          \"__label__SJOLOON__Electronics__Camera%%&%%Photo__Lighting%%&%%Studio__Photo%%Studio__Backgrounds\",\n          \"__label__OLIGHT__Tools%%&%%Home%%Improvement__Safety%%&%%Security__Flashlights__Handheld%%Flashlights__na\"\n        ],\n        \"semantic_type\": \"\",\n        \"description\": \"\"\n      }\n    },\n    {\n      \"column\": \"training_row\",\n      \"properties\": {\n        \"dtype\": \"string\",\n        \"num_unique_values\": 94558,\n        \"samples\": [\n          \"__label__3dRose__Home%%&%%Kitchen__Bath__Towels__Hand%%Towels__na title: 3D Rose The Kilauea Lighthouse on The Hawaiian Island of Kauai TWL_206558_1 Towel, 15 x 22 store: 3dRose manufacturer: 3D Rose\",\n          \"__label__Shop4Mailers__Office%%Products__Office%%&%%School%%Supplies__Envelopes,%%Mailers%%&%%Shipping%%Supplies__Mailers__Envelope%%Mailers title: Shop4Mailers 9 x 12 Pink Poly Bag Mailer Envelopes 2 Mil (1000 Pack) store: Shop4Mailers manufacturer: Shop4Mailers\",\n          \"__label__Shakespeare__Sports%%&%%Outdoors__Hunting%%&%%Fishing__Fishing__Rod%%&%%Reel%%Combos__na title: Shakespeare Spiderman Lighted Fishing Kit store: Shakespeare manufacturer: Pure Fishing\"\n        ],\n        \"semantic_type\": \"\",\n        \"description\": \"\"\n      }\n    }\n  ]\n}",
              "type": "dataframe",
              "variable_name": "val_df"
            },
            "text/html": [
              "\n",
              "  <div id=\"df-3162516c-cca1-418f-b166-d492e369d18f\" class=\"colab-df-container\">\n",
              "    <div>\n",
              "<style scoped>\n",
              "    .dataframe tbody tr th:only-of-type {\n",
              "        vertical-align: middle;\n",
              "    }\n",
              "\n",
              "    .dataframe tbody tr th {\n",
              "        vertical-align: top;\n",
              "    }\n",
              "\n",
              "    .dataframe thead th {\n",
              "        text-align: right;\n",
              "    }\n",
              "</style>\n",
              "<table border=\"1\" class=\"dataframe\">\n",
              "  <thead>\n",
              "    <tr style=\"text-align: right;\">\n",
              "      <th></th>\n",
              "      <th>indoml_id</th>\n",
              "      <th>title</th>\n",
              "      <th>store</th>\n",
              "      <th>details_Manufacturer</th>\n",
              "      <th>details_Brand</th>\n",
              "      <th>L0_category</th>\n",
              "      <th>L1_category</th>\n",
              "      <th>L2_category</th>\n",
              "      <th>L3_category</th>\n",
              "      <th>L4_category</th>\n",
              "      <th>features</th>\n",
              "      <th>label</th>\n",
              "      <th>training_row</th>\n",
              "    </tr>\n",
              "  </thead>\n",
              "  <tbody>\n",
              "    <tr>\n",
              "      <th>0</th>\n",
              "      <td>0</td>\n",
              "      <td>Pendleton, Eco-Wise Washable Wool Blanket, Bla...</td>\n",
              "      <td>Pendleton</td>\n",
              "      <td>Pendleton Woolen Mills</td>\n",
              "      <td>Pendleton</td>\n",
              "      <td>Home%%&amp;%%Kitchen</td>\n",
              "      <td>Bedding</td>\n",
              "      <td>Blankets%%&amp;%%Throws</td>\n",
              "      <td>Bed%%Blankets</td>\n",
              "      <td>na</td>\n",
              "      <td>title: Pendleton, Eco-Wise Washable Wool Blank...</td>\n",
              "      <td>__label__Pendleton__Home%%&amp;%%Kitchen__Bedding_...</td>\n",
              "      <td>__label__Pendleton__Home%%&amp;%%Kitchen__Bedding_...</td>\n",
              "    </tr>\n",
              "    <tr>\n",
              "      <th>1</th>\n",
              "      <td>1</td>\n",
              "      <td>JP London MD3A049 DM1578 Space Nebula Removabl...</td>\n",
              "      <td>JP London</td>\n",
              "      <td>JP London</td>\n",
              "      <td>JP%%London</td>\n",
              "      <td>Tools%%&amp;%%Home%%Improvement</td>\n",
              "      <td>Paint,%%Wall%%Treatments%%&amp;%%Supplies</td>\n",
              "      <td>Wall%%Stickers%%&amp;%%Murals</td>\n",
              "      <td>na</td>\n",
              "      <td>na</td>\n",
              "      <td>title: JP London MD3A049 DM1578 Space Nebula R...</td>\n",
              "      <td>__label__JP%%London__Tools%%&amp;%%Home%%Improveme...</td>\n",
              "      <td>__label__JP%%London__Tools%%&amp;%%Home%%Improveme...</td>\n",
              "    </tr>\n",
              "    <tr>\n",
              "      <th>2</th>\n",
              "      <td>2</td>\n",
              "      <td>Lawn Fawn LF2938 Fangtastic Friends - Lawn Cut...</td>\n",
              "      <td>Lawn Fawn</td>\n",
              "      <td>Lawn Fawn</td>\n",
              "      <td>Lawn%%Fawn</td>\n",
              "      <td>Arts,%%Crafts%%&amp;%%Sewing</td>\n",
              "      <td>Scrapbooking%%&amp;%%Stamping</td>\n",
              "      <td>Die-Cutting%%&amp;%%Embossing</td>\n",
              "      <td>Die-Cuts</td>\n",
              "      <td>na</td>\n",
              "      <td>title: Lawn Fawn LF2938 Fangtastic Friends - L...</td>\n",
              "      <td>__label__Lawn%%Fawn__Arts,%%Crafts%%&amp;%%Sewing_...</td>\n",
              "      <td>__label__Lawn%%Fawn__Arts,%%Crafts%%&amp;%%Sewing_...</td>\n",
              "    </tr>\n",
              "    <tr>\n",
              "      <th>3</th>\n",
              "      <td>3</td>\n",
              "      <td>ANCHEER Foldable Elliptical Machine for Home U...</td>\n",
              "      <td>ANCHEER</td>\n",
              "      <td>ANCHEER</td>\n",
              "      <td>ANCHEER</td>\n",
              "      <td>Sports%%&amp;%%Outdoors</td>\n",
              "      <td>Exercise%%&amp;%%Fitness</td>\n",
              "      <td>Cardio%%Training</td>\n",
              "      <td>Elliptical%%Trainers</td>\n",
              "      <td>na</td>\n",
              "      <td>title: ANCHEER Foldable Elliptical Machine for...</td>\n",
              "      <td>__label__ANCHEER__Sports%%&amp;%%Outdoors__Exercis...</td>\n",
              "      <td>__label__ANCHEER__Sports%%&amp;%%Outdoors__Exercis...</td>\n",
              "    </tr>\n",
              "    <tr>\n",
              "      <th>4</th>\n",
              "      <td>4</td>\n",
              "      <td>Schecter Jeff Loomis JLV-7 NT Left Handed 7-St...</td>\n",
              "      <td>Schecter</td>\n",
              "      <td>None</td>\n",
              "      <td>Schecter</td>\n",
              "      <td>Musical%%Instruments</td>\n",
              "      <td>Guitars</td>\n",
              "      <td>Electric%%Guitars</td>\n",
              "      <td>Solid%%Body</td>\n",
              "      <td>na</td>\n",
              "      <td>title: Schecter Jeff Loomis JLV-7 NT Left Hand...</td>\n",
              "      <td>__label__Schecter__Musical%%Instruments__Guita...</td>\n",
              "      <td>__label__Schecter__Musical%%Instruments__Guita...</td>\n",
              "    </tr>\n",
              "  </tbody>\n",
              "</table>\n",
              "</div>\n",
              "    <div class=\"colab-df-buttons\">\n",
              "\n",
              "  <div class=\"colab-df-container\">\n",
              "    <button class=\"colab-df-convert\" onclick=\"convertToInteractive('df-3162516c-cca1-418f-b166-d492e369d18f')\"\n",
              "            title=\"Convert this dataframe to an interactive table.\"\n",
              "            style=\"display:none;\">\n",
              "\n",
              "  <svg xmlns=\"http://www.w3.org/2000/svg\" height=\"24px\" viewBox=\"0 -960 960 960\">\n",
              "    <path d=\"M120-120v-720h720v720H120Zm60-500h600v-160H180v160Zm220 220h160v-160H400v160Zm0 220h160v-160H400v160ZM180-400h160v-160H180v160Zm440 0h160v-160H620v160ZM180-180h160v-160H180v160Zm440 0h160v-160H620v160Z\"/>\n",
              "  </svg>\n",
              "    </button>\n",
              "\n",
              "  <style>\n",
              "    .colab-df-container {\n",
              "      display:flex;\n",
              "      gap: 12px;\n",
              "    }\n",
              "\n",
              "    .colab-df-convert {\n",
              "      background-color: #E8F0FE;\n",
              "      border: none;\n",
              "      border-radius: 50%;\n",
              "      cursor: pointer;\n",
              "      display: none;\n",
              "      fill: #1967D2;\n",
              "      height: 32px;\n",
              "      padding: 0 0 0 0;\n",
              "      width: 32px;\n",
              "    }\n",
              "\n",
              "    .colab-df-convert:hover {\n",
              "      background-color: #E2EBFA;\n",
              "      box-shadow: 0px 1px 2px rgba(60, 64, 67, 0.3), 0px 1px 3px 1px rgba(60, 64, 67, 0.15);\n",
              "      fill: #174EA6;\n",
              "    }\n",
              "\n",
              "    .colab-df-buttons div {\n",
              "      margin-bottom: 4px;\n",
              "    }\n",
              "\n",
              "    [theme=dark] .colab-df-convert {\n",
              "      background-color: #3B4455;\n",
              "      fill: #D2E3FC;\n",
              "    }\n",
              "\n",
              "    [theme=dark] .colab-df-convert:hover {\n",
              "      background-color: #434B5C;\n",
              "      box-shadow: 0px 1px 3px 1px rgba(0, 0, 0, 0.15);\n",
              "      filter: drop-shadow(0px 1px 2px rgba(0, 0, 0, 0.3));\n",
              "      fill: #FFFFFF;\n",
              "    }\n",
              "  </style>\n",
              "\n",
              "    <script>\n",
              "      const buttonEl =\n",
              "        document.querySelector('#df-3162516c-cca1-418f-b166-d492e369d18f button.colab-df-convert');\n",
              "      buttonEl.style.display =\n",
              "        google.colab.kernel.accessAllowed ? 'block' : 'none';\n",
              "\n",
              "      async function convertToInteractive(key) {\n",
              "        const element = document.querySelector('#df-3162516c-cca1-418f-b166-d492e369d18f');\n",
              "        const dataTable =\n",
              "          await google.colab.kernel.invokeFunction('convertToInteractive',\n",
              "                                                    [key], {});\n",
              "        if (!dataTable) return;\n",
              "\n",
              "        const docLinkHtml = 'Like what you see? Visit the ' +\n",
              "          '<a target=\"_blank\" href=https://colab.research.google.com/notebooks/data_table.ipynb>data table notebook</a>'\n",
              "          + ' to learn more about interactive tables.';\n",
              "        element.innerHTML = '';\n",
              "        dataTable['output_type'] = 'display_data';\n",
              "        await google.colab.output.renderOutput(dataTable, element);\n",
              "        const docLink = document.createElement('div');\n",
              "        docLink.innerHTML = docLinkHtml;\n",
              "        element.appendChild(docLink);\n",
              "      }\n",
              "    </script>\n",
              "  </div>\n",
              "\n",
              "\n",
              "<div id=\"df-d524104d-4f2f-4aa7-aeb2-9c5be6f1debd\">\n",
              "  <button class=\"colab-df-quickchart\" onclick=\"quickchart('df-d524104d-4f2f-4aa7-aeb2-9c5be6f1debd')\"\n",
              "            title=\"Suggest charts\"\n",
              "            style=\"display:none;\">\n",
              "\n",
              "<svg xmlns=\"http://www.w3.org/2000/svg\" height=\"24px\"viewBox=\"0 0 24 24\"\n",
              "     width=\"24px\">\n",
              "    <g>\n",
              "        <path d=\"M19 3H5c-1.1 0-2 .9-2 2v14c0 1.1.9 2 2 2h14c1.1 0 2-.9 2-2V5c0-1.1-.9-2-2-2zM9 17H7v-7h2v7zm4 0h-2V7h2v10zm4 0h-2v-4h2v4z\"/>\n",
              "    </g>\n",
              "</svg>\n",
              "  </button>\n",
              "\n",
              "<style>\n",
              "  .colab-df-quickchart {\n",
              "      --bg-color: #E8F0FE;\n",
              "      --fill-color: #1967D2;\n",
              "      --hover-bg-color: #E2EBFA;\n",
              "      --hover-fill-color: #174EA6;\n",
              "      --disabled-fill-color: #AAA;\n",
              "      --disabled-bg-color: #DDD;\n",
              "  }\n",
              "\n",
              "  [theme=dark] .colab-df-quickchart {\n",
              "      --bg-color: #3B4455;\n",
              "      --fill-color: #D2E3FC;\n",
              "      --hover-bg-color: #434B5C;\n",
              "      --hover-fill-color: #FFFFFF;\n",
              "      --disabled-bg-color: #3B4455;\n",
              "      --disabled-fill-color: #666;\n",
              "  }\n",
              "\n",
              "  .colab-df-quickchart {\n",
              "    background-color: var(--bg-color);\n",
              "    border: none;\n",
              "    border-radius: 50%;\n",
              "    cursor: pointer;\n",
              "    display: none;\n",
              "    fill: var(--fill-color);\n",
              "    height: 32px;\n",
              "    padding: 0;\n",
              "    width: 32px;\n",
              "  }\n",
              "\n",
              "  .colab-df-quickchart:hover {\n",
              "    background-color: var(--hover-bg-color);\n",
              "    box-shadow: 0 1px 2px rgba(60, 64, 67, 0.3), 0 1px 3px 1px rgba(60, 64, 67, 0.15);\n",
              "    fill: var(--button-hover-fill-color);\n",
              "  }\n",
              "\n",
              "  .colab-df-quickchart-complete:disabled,\n",
              "  .colab-df-quickchart-complete:disabled:hover {\n",
              "    background-color: var(--disabled-bg-color);\n",
              "    fill: var(--disabled-fill-color);\n",
              "    box-shadow: none;\n",
              "  }\n",
              "\n",
              "  .colab-df-spinner {\n",
              "    border: 2px solid var(--fill-color);\n",
              "    border-color: transparent;\n",
              "    border-bottom-color: var(--fill-color);\n",
              "    animation:\n",
              "      spin 1s steps(1) infinite;\n",
              "  }\n",
              "\n",
              "  @keyframes spin {\n",
              "    0% {\n",
              "      border-color: transparent;\n",
              "      border-bottom-color: var(--fill-color);\n",
              "      border-left-color: var(--fill-color);\n",
              "    }\n",
              "    20% {\n",
              "      border-color: transparent;\n",
              "      border-left-color: var(--fill-color);\n",
              "      border-top-color: var(--fill-color);\n",
              "    }\n",
              "    30% {\n",
              "      border-color: transparent;\n",
              "      border-left-color: var(--fill-color);\n",
              "      border-top-color: var(--fill-color);\n",
              "      border-right-color: var(--fill-color);\n",
              "    }\n",
              "    40% {\n",
              "      border-color: transparent;\n",
              "      border-right-color: var(--fill-color);\n",
              "      border-top-color: var(--fill-color);\n",
              "    }\n",
              "    60% {\n",
              "      border-color: transparent;\n",
              "      border-right-color: var(--fill-color);\n",
              "    }\n",
              "    80% {\n",
              "      border-color: transparent;\n",
              "      border-right-color: var(--fill-color);\n",
              "      border-bottom-color: var(--fill-color);\n",
              "    }\n",
              "    90% {\n",
              "      border-color: transparent;\n",
              "      border-bottom-color: var(--fill-color);\n",
              "    }\n",
              "  }\n",
              "</style>\n",
              "\n",
              "  <script>\n",
              "    async function quickchart(key) {\n",
              "      const quickchartButtonEl =\n",
              "        document.querySelector('#' + key + ' button');\n",
              "      quickchartButtonEl.disabled = true;  // To prevent multiple clicks.\n",
              "      quickchartButtonEl.classList.add('colab-df-spinner');\n",
              "      try {\n",
              "        const charts = await google.colab.kernel.invokeFunction(\n",
              "            'suggestCharts', [key], {});\n",
              "      } catch (error) {\n",
              "        console.error('Error during call to suggestCharts:', error);\n",
              "      }\n",
              "      quickchartButtonEl.classList.remove('colab-df-spinner');\n",
              "      quickchartButtonEl.classList.add('colab-df-quickchart-complete');\n",
              "    }\n",
              "    (() => {\n",
              "      let quickchartButtonEl =\n",
              "        document.querySelector('#df-d524104d-4f2f-4aa7-aeb2-9c5be6f1debd button');\n",
              "      quickchartButtonEl.style.display =\n",
              "        google.colab.kernel.accessAllowed ? 'block' : 'none';\n",
              "    })();\n",
              "  </script>\n",
              "</div>\n",
              "\n",
              "    </div>\n",
              "  </div>\n"
            ],
            "text/plain": [
              "   indoml_id                                              title      store  \\\n",
              "0          0  Pendleton, Eco-Wise Washable Wool Blanket, Bla...  Pendleton   \n",
              "1          1  JP London MD3A049 DM1578 Space Nebula Removabl...  JP London   \n",
              "2          2  Lawn Fawn LF2938 Fangtastic Friends - Lawn Cut...  Lawn Fawn   \n",
              "3          3  ANCHEER Foldable Elliptical Machine for Home U...    ANCHEER   \n",
              "4          4  Schecter Jeff Loomis JLV-7 NT Left Handed 7-St...   Schecter   \n",
              "\n",
              "     details_Manufacturer details_Brand                  L0_category  \\\n",
              "0  Pendleton Woolen Mills     Pendleton             Home%%&%%Kitchen   \n",
              "1               JP London    JP%%London  Tools%%&%%Home%%Improvement   \n",
              "2               Lawn Fawn    Lawn%%Fawn     Arts,%%Crafts%%&%%Sewing   \n",
              "3                 ANCHEER       ANCHEER          Sports%%&%%Outdoors   \n",
              "4                    None      Schecter         Musical%%Instruments   \n",
              "\n",
              "                             L1_category                L2_category  \\\n",
              "0                                Bedding        Blankets%%&%%Throws   \n",
              "1  Paint,%%Wall%%Treatments%%&%%Supplies  Wall%%Stickers%%&%%Murals   \n",
              "2              Scrapbooking%%&%%Stamping  Die-Cutting%%&%%Embossing   \n",
              "3                   Exercise%%&%%Fitness           Cardio%%Training   \n",
              "4                                Guitars          Electric%%Guitars   \n",
              "\n",
              "            L3_category L4_category  \\\n",
              "0         Bed%%Blankets          na   \n",
              "1                    na          na   \n",
              "2              Die-Cuts          na   \n",
              "3  Elliptical%%Trainers          na   \n",
              "4           Solid%%Body          na   \n",
              "\n",
              "                                            features  \\\n",
              "0  title: Pendleton, Eco-Wise Washable Wool Blank...   \n",
              "1  title: JP London MD3A049 DM1578 Space Nebula R...   \n",
              "2  title: Lawn Fawn LF2938 Fangtastic Friends - L...   \n",
              "3  title: ANCHEER Foldable Elliptical Machine for...   \n",
              "4  title: Schecter Jeff Loomis JLV-7 NT Left Hand...   \n",
              "\n",
              "                                               label  \\\n",
              "0  __label__Pendleton__Home%%&%%Kitchen__Bedding_...   \n",
              "1  __label__JP%%London__Tools%%&%%Home%%Improveme...   \n",
              "2  __label__Lawn%%Fawn__Arts,%%Crafts%%&%%Sewing_...   \n",
              "3  __label__ANCHEER__Sports%%&%%Outdoors__Exercis...   \n",
              "4  __label__Schecter__Musical%%Instruments__Guita...   \n",
              "\n",
              "                                        training_row  \n",
              "0  __label__Pendleton__Home%%&%%Kitchen__Bedding_...  \n",
              "1  __label__JP%%London__Tools%%&%%Home%%Improveme...  \n",
              "2  __label__Lawn%%Fawn__Arts,%%Crafts%%&%%Sewing_...  \n",
              "3  __label__ANCHEER__Sports%%&%%Outdoors__Exercis...  \n",
              "4  __label__Schecter__Musical%%Instruments__Guita...  "
            ]
          },
          "execution_count": 80,
          "metadata": {},
          "output_type": "execute_result"
        }
      ],
      "source": [
        "x_val_df.sort_values(by=\"indoml_id\", ascending=True, inplace=True)\n",
        "y_val_df.sort_values(by=\"indoml_id\", ascending=True, inplace=True)\n",
        "\n",
        "val_df = pd.concat([x_val_df, y_val_df.drop(\"indoml_id\", axis=1)], axis=1)\n",
        "\n",
        "val_df = preprocess(val_df)\n",
        "\n",
        "val_df.head()"
      ]
    },
    {
      "cell_type": "markdown",
      "metadata": {
        "id": "GGujl2Hsaz_1"
      },
      "source": [
        "### Training"
      ]
    },
    {
      "cell_type": "code",
      "execution_count": 81,
      "metadata": {
        "colab": {
          "base_uri": "https://localhost:8080/",
          "height": 52
        },
        "id": "jIVSpu8CZzf5",
        "outputId": "197d9822-c618-4512-da73-052e3407a164"
      },
      "outputs": [
        {
          "data": {
            "application/vnd.google.colaboratory.intrinsic+json": {
              "type": "string"
            },
            "text/plain": [
              "'__label__Enclume__Home%%&%%Kitchen__Kitchen%%&%%Dining__Storage%%&%%Organization__Racks%%&%%Holders__Pot%%Racks title: Enclume Angled Pot Hook, Set of 6, Use with Pot Racks, Copper Plated store: Enclume manufacturer: Enclume'"
            ]
          },
          "execution_count": 81,
          "metadata": {},
          "output_type": "execute_result"
        }
      ],
      "source": [
        "train_df[\"training_row\"][0]"
      ]
    },
    {
      "cell_type": "code",
      "execution_count": 83,
      "metadata": {
        "colab": {
          "base_uri": "https://localhost:8080/",
          "height": 35
        },
        "id": "SGBkMJhNhcHW",
        "outputId": "e1ffe572-4fe0-4ed7-dc71-c432e935f2a6"
      },
      "outputs": [
        {
          "data": {
            "application/vnd.google.colaboratory.intrinsic+json": {
              "type": "string"
            },
            "text/plain": [
              "'title: Enclume Angled Pot Hook, Set of 6, Use with Pot Racks, Copper Plated store: Enclume manufacturer: Enclume'"
            ]
          },
          "execution_count": 83,
          "metadata": {},
          "output_type": "execute_result"
        }
      ],
      "source": [
        "train_df[\"features\"][0]"
      ]
    },
    {
      "cell_type": "code",
      "execution_count": 82,
      "metadata": {
        "colab": {
          "base_uri": "https://localhost:8080/",
          "height": 35
        },
        "id": "H1gdlBaZbF7T",
        "outputId": "68e2e4e3-0a1b-4cff-b6e4-9f2ea31cc387"
      },
      "outputs": [
        {
          "data": {
            "application/vnd.google.colaboratory.intrinsic+json": {
              "type": "string"
            },
            "text/plain": [
              "'__label__Enclume__Home%%&%%Kitchen__Kitchen%%&%%Dining__Storage%%&%%Organization__Racks%%&%%Holders__Pot%%Racks'"
            ]
          },
          "execution_count": 82,
          "metadata": {},
          "output_type": "execute_result"
        }
      ],
      "source": [
        "train_df[\"label\"][0]"
      ]
    },
    {
      "cell_type": "code",
      "execution_count": 84,
      "metadata": {
        "colab": {
          "base_uri": "https://localhost:8080/"
        },
        "id": "TM6XfkJ-bzbF",
        "outputId": "f8c27184-2d51-4e74-fc97-b12a4734c552"
      },
      "outputs": [
        {
          "name": "stderr",
          "output_type": "stream",
          "text": [
            "100%|██████████| 443499/443499 [00:00<00:00, 783969.72it/s]\n"
          ]
        }
      ],
      "source": [
        "training_rows = train_df[\"training_row\"].tolist()\n",
        "with open(\"indoml.train\", \"w\") as fp:\n",
        "  for row in tqdm(training_rows):\n",
        "    fp.write(row)\n",
        "    fp.write(\"\\n\")"
      ]
    },
    {
      "cell_type": "code",
      "execution_count": 85,
      "metadata": {
        "id": "QoWq2zhwb9bJ"
      },
      "outputs": [],
      "source": [
        "model = fasttext.train_supervised(input=\"indoml.train\", lr=1.0, epoch=25, wordNgrams=2, bucket=200000, dim=50, loss='hs')"
      ]
    },
    {
      "cell_type": "code",
      "execution_count": 73,
      "metadata": {
        "id": "g0GdyQNTdZKv"
      },
      "outputs": [],
      "source": [
        "model.save_model(\"indoml.bin\")"
      ]
    },
    {
      "cell_type": "code",
      "execution_count": null,
      "metadata": {
        "id": "vOCfEDmGgke9"
      },
      "outputs": [],
      "source": []
    },
    {
      "cell_type": "markdown",
      "metadata": {
        "id": "L8ciSzlSgwZ6"
      },
      "source": [
        "### Validation"
      ]
    },
    {
      "cell_type": "code",
      "execution_count": 86,
      "metadata": {
        "colab": {
          "base_uri": "https://localhost:8080/",
          "height": 52
        },
        "id": "ZvEDVdc-hibs",
        "outputId": "a91d0a1d-a7a5-4350-f50f-58788e502c0d"
      },
      "outputs": [
        {
          "data": {
            "application/vnd.google.colaboratory.intrinsic+json": {
              "type": "string"
            },
            "text/plain": [
              "'__label__Pendleton__Home%%&%%Kitchen__Bedding__Blankets%%&%%Throws__Bed%%Blankets__na title: Pendleton, Eco-Wise Washable Wool Blanket, Black Watch, King store: Pendleton manufacturer: Pendleton Woolen Mills'"
            ]
          },
          "execution_count": 86,
          "metadata": {},
          "output_type": "execute_result"
        }
      ],
      "source": [
        "val_df[\"training_row\"][0]"
      ]
    },
    {
      "cell_type": "code",
      "execution_count": 87,
      "metadata": {
        "colab": {
          "base_uri": "https://localhost:8080/",
          "height": 35
        },
        "id": "ztmefkXwhlfA",
        "outputId": "c341960a-501c-49c5-ba10-7d84eb839679"
      },
      "outputs": [
        {
          "data": {
            "application/vnd.google.colaboratory.intrinsic+json": {
              "type": "string"
            },
            "text/plain": [
              "'title: Pendleton, Eco-Wise Washable Wool Blanket, Black Watch, King store: Pendleton manufacturer: Pendleton Woolen Mills'"
            ]
          },
          "execution_count": 87,
          "metadata": {},
          "output_type": "execute_result"
        }
      ],
      "source": [
        "val_df[\"features\"][0]"
      ]
    },
    {
      "cell_type": "code",
      "execution_count": 88,
      "metadata": {
        "colab": {
          "base_uri": "https://localhost:8080/",
          "height": 35
        },
        "id": "Ftr2isFWhnBT",
        "outputId": "69962e5c-f23f-48f8-b292-78b49bea35bd"
      },
      "outputs": [
        {
          "data": {
            "application/vnd.google.colaboratory.intrinsic+json": {
              "type": "string"
            },
            "text/plain": [
              "'__label__Pendleton__Home%%&%%Kitchen__Bedding__Blankets%%&%%Throws__Bed%%Blankets__na'"
            ]
          },
          "execution_count": 88,
          "metadata": {},
          "output_type": "execute_result"
        }
      ],
      "source": [
        "val_df[\"label\"][0]"
      ]
    },
    {
      "cell_type": "code",
      "execution_count": 96,
      "metadata": {
        "colab": {
          "base_uri": "https://localhost:8080/"
        },
        "id": "EA5YS89rhp3k",
        "outputId": "0fa8c0d9-7839-4ea7-df85-535ba0ae7b89"
      },
      "outputs": [
        {
          "name": "stderr",
          "output_type": "stream",
          "text": [
            "95035it [00:03, 28651.64it/s]\n"
          ]
        }
      ],
      "source": [
        "validation_rows = val_df[\"features\"]\n",
        "\n",
        "val_result_list = []\n",
        "for index, row in tqdm(enumerate(validation_rows)):\n",
        "  prediction = model.predict(row)\n",
        "  val_result_list.append(prediction[0][0])"
      ]
    },
    {
      "cell_type": "code",
      "execution_count": 97,
      "metadata": {
        "id": "URH_zDPaiX-l"
      },
      "outputs": [],
      "source": []
    },
    {
      "cell_type": "markdown",
      "metadata": {
        "id": "Pixyuzt1j3Zk"
      },
      "source": [
        "### Metrics"
      ]
    },
    {
      "cell_type": "code",
      "execution_count": 98,
      "metadata": {
        "colab": {
          "base_uri": "https://localhost:8080/"
        },
        "id": "9OL1djOhjthw",
        "outputId": "bc08638c-05ff-4b4e-c33d-61fc9e6a0e50"
      },
      "outputs": [
        {
          "data": {
            "text/plain": [
              "0.8731835639501236"
            ]
          },
          "execution_count": 98,
          "metadata": {},
          "output_type": "execute_result"
        }
      ],
      "source": [
        "accuracy_score(val_df[\"label\"], val_result_list)"
      ]
    },
    {
      "cell_type": "code",
      "execution_count": 99,
      "metadata": {
        "colab": {
          "base_uri": "https://localhost:8080/"
        },
        "id": "mx1Dvr8NkIXi",
        "outputId": "54235b5d-ebdd-4240-f08f-d29f8b4bc992"
      },
      "outputs": [
        {
          "data": {
            "text/plain": [
              "0.8690874097438622"
            ]
          },
          "execution_count": 99,
          "metadata": {},
          "output_type": "execute_result"
        }
      ],
      "source": [
        "precision_score(val_df[\"label\"], val_result_list, average='macro', zero_division=0)"
      ]
    },
    {
      "cell_type": "code",
      "execution_count": 100,
      "metadata": {
        "colab": {
          "base_uri": "https://localhost:8080/"
        },
        "id": "1HY3viNPkOOZ",
        "outputId": "e990b5df-699e-4ced-a7b4-de2806a91009"
      },
      "outputs": [
        {
          "data": {
            "text/plain": [
              "0.8526913936104816"
            ]
          },
          "execution_count": 100,
          "metadata": {},
          "output_type": "execute_result"
        }
      ],
      "source": [
        "recall_score(val_df[\"label\"], val_result_list, average='macro', zero_division=0)"
      ]
    },
    {
      "cell_type": "code",
      "execution_count": 101,
      "metadata": {
        "id": "rftk37zwkR2k"
      },
      "outputs": [],
      "source": []
    },
    {
      "cell_type": "markdown",
      "metadata": {
        "id": "IHe52Awgkbs9"
      },
      "source": [
        "### Test"
      ]
    },
    {
      "cell_type": "code",
      "execution_count": 102,
      "metadata": {
        "colab": {
          "base_uri": "https://localhost:8080/"
        },
        "id": "qxEzC_MIk36q",
        "outputId": "42604d83-de6c-4745-8d88-3a7406fc9327"
      },
      "outputs": [
        {
          "data": {
            "text/plain": [
              "(95036, 4)"
            ]
          },
          "execution_count": 102,
          "metadata": {},
          "output_type": "execute_result"
        }
      ],
      "source": [
        "x_test_df.shape"
      ]
    },
    {
      "cell_type": "code",
      "execution_count": 103,
      "metadata": {
        "id": "s11eu4_Akc9Z"
      },
      "outputs": [],
      "source": [
        "x_test_df.fillna(\"None\", inplace=True)\n",
        "x_test_df[\"features\"] = \"title: \" + x_test_df[\"title\"] + \" \" + \"store: \" + x_test_df[\"store\"] + \" \" + \"manufacturer: \" + x_test_df[\"details_Manufacturer\"]"
      ]
    },
    {
      "cell_type": "code",
      "execution_count": 105,
      "metadata": {
        "colab": {
          "base_uri": "https://localhost:8080/"
        },
        "id": "4IZFXCW2k7eb",
        "outputId": "44a8c657-7435-4934-dfa4-97473b312c74"
      },
      "outputs": [
        {
          "name": "stderr",
          "output_type": "stream",
          "text": [
            "95036it [00:03, 31228.33it/s]\n"
          ]
        }
      ],
      "source": [
        "test_rows = x_test_df[\"features\"]\n",
        "\n",
        "test_result_list = []\n",
        "for index, row in tqdm(enumerate(test_rows)):\n",
        "  prediction = model.predict(row)\n",
        "  test_result_list.append(prediction[0][0])"
      ]
    },
    {
      "cell_type": "code",
      "execution_count": 122,
      "metadata": {
        "id": "gJAOr_bKxAAx"
      },
      "outputs": [],
      "source": [
        "ids = x_test_df[\"indoml_id\"].tolist()"
      ]
    },
    {
      "cell_type": "code",
      "execution_count": 124,
      "metadata": {
        "id": "4zATtSwjk_Yd"
      },
      "outputs": [],
      "source": [
        "category_list = []\n",
        "for index, row in enumerate(test_result_list):\n",
        "  row = row.replace('__label__', '')\n",
        "  details_Brand, L0_category, L1_category, L2_category, L3_category, L4_category = row.split('__')\n",
        "  details_Brand = details_Brand.replace('%%', ' ')\n",
        "  L0_category = L0_category.replace('%%', ' ')\n",
        "  L1_category = L1_category.replace('%%', ' ')\n",
        "  L2_category = L2_category.replace('%%', ' ')\n",
        "  L3_category = L3_category.replace('%%', ' ')\n",
        "  L4_category = L4_category.replace('%%', ' ')\n",
        "  category_dict = {\"indoml_id\": ids[index], \"details_Brand\": details_Brand, \"L0_category\": L0_category, \"L1_category\": L1_category, \"L2_category\": L2_category, \"L3_category\": L3_category, \"L4_category\": L4_category}\n",
        "  category_list.append(category_dict)"
      ]
    },
    {
      "cell_type": "code",
      "execution_count": 126,
      "metadata": {
        "colab": {
          "base_uri": "https://localhost:8080/"
        },
        "id": "vb_c6YyFxkJi",
        "outputId": "6dfa7a73-e134-4e03-ab43-a98c7e7e1398"
      },
      "outputs": [
        {
          "name": "stdout",
          "output_type": "stream",
          "text": [
            "{'indoml_id': 0, 'details_Brand': 'CURT', 'L0_category': 'Automotive', 'L1_category': 'Exterior Accessories', 'L2_category': 'Towing Products & Winches', 'L3_category': 'Hitch Accessories', 'L4_category': 'Wiring'}\n"
          ]
        }
      ],
      "source": [
        "for row in category_list:\n",
        "  print(str(row))\n",
        "  break"
      ]
    },
    {
      "cell_type": "code",
      "execution_count": 128,
      "metadata": {
        "id": "N_ybzLJmxXXa"
      },
      "outputs": [],
      "source": [
        "import json\n",
        "with open(\"attribute_test_30082024.predict\", \"w\") as fp:\n",
        "  for row in category_list:\n",
        "    fp.write(json.dumps(row))\n",
        "    fp.write(\"\\n\")"
      ]
    },
    {
      "cell_type": "code",
      "execution_count": 129,
      "metadata": {
        "id": "zzgpM5P8nlzz"
      },
      "outputs": [],
      "source": []
    },
    {
      "cell_type": "code",
      "execution_count": null,
      "metadata": {
        "id": "f1uaVnQvwxrj"
      },
      "outputs": [],
      "source": []
    }
  ],
  "metadata": {
    "colab": {
      "provenance": []
    },
    "kernelspec": {
      "display_name": "Python 3",
      "name": "python3"
    },
    "language_info": {
      "codemirror_mode": {
        "name": "ipython",
        "version": 3
      },
      "file_extension": ".py",
      "mimetype": "text/x-python",
      "name": "python",
      "nbconvert_exporter": "python",
      "pygments_lexer": "ipython3",
      "version": "3.12.4"
    }
  },
  "nbformat": 4,
  "nbformat_minor": 0
}
