{
  "nbformat": 4,
  "nbformat_minor": 0,
  "metadata": {
    "colab": {
      "provenance": []
    },
    "kernelspec": {
      "name": "python3",
      "display_name": "Python 3"
    },
    "language_info": {
      "name": "python"
    }
  },
  "cells": [
    {
      "cell_type": "code",
      "source": [
        "from google.colab import drive\n",
        "drive.mount('/content/drive')"
      ],
      "metadata": {
        "colab": {
          "base_uri": "https://localhost:8080/"
        },
        "id": "R7LYq-xfay7X",
        "outputId": "4f735f48-c063-46d3-c3da-486cd142d6fb"
      },
      "execution_count": null,
      "outputs": [
        {
          "output_type": "stream",
          "name": "stdout",
          "text": [
            "Drive already mounted at /content/drive; to attempt to forcibly remount, call drive.mount(\"/content/drive\", force_remount=True).\n"
          ]
        }
      ]
    },
    {
      "cell_type": "code",
      "source": [
        "!unzip \"/content/drive/MyDrive/IndoML/input_data.zip\" -d \"/content/drive/MyDrive/IndoML/Dataset/\""
      ],
      "metadata": {
        "colab": {
          "base_uri": "https://localhost:8080/"
        },
        "id": "aDJr6-cGbdw8",
        "outputId": "647dffa5-acc9-4efc-9881-13c03f9b553f"
      },
      "execution_count": null,
      "outputs": [
        {
          "output_type": "stream",
          "name": "stdout",
          "text": [
            "Archive:  /content/drive/MyDrive/IndoML/input_data.zip\n",
            "  inflating: /content/drive/MyDrive/IndoML/Dataset/attribute_test.data  \n",
            "  inflating: /content/drive/MyDrive/IndoML/Dataset/attribute_train.data  \n",
            "  inflating: /content/drive/MyDrive/IndoML/Dataset/attribute_train.solution  \n",
            "  inflating: /content/drive/MyDrive/IndoML/Dataset/attribute_val.data  \n",
            "  inflating: /content/drive/MyDrive/IndoML/Dataset/attribute_val.solution  \n"
          ]
        }
      ]
    },
    {
      "cell_type": "code",
      "source": [
        "!ls /content/drive/MyDrive/IndoML"
      ],
      "metadata": {
        "colab": {
          "base_uri": "https://localhost:8080/"
        },
        "id": "SmJfFK5EcJMb",
        "outputId": "a6f09cbd-649a-4288-d416-479f825377dd"
      },
      "execution_count": 1,
      "outputs": [
        {
          "output_type": "stream",
          "name": "stdout",
          "text": [
            "Dataset  fast_text  input_data.zip  LG\n"
          ]
        }
      ]
    },
    {
      "cell_type": "code",
      "source": [
        "!cd /content/drive/MyDrive/IndoML/last_day && git clone https://github.com/facebookresearch/fastText.git\n"
      ],
      "metadata": {
        "colab": {
          "base_uri": "https://localhost:8080/"
        },
        "id": "B2amOnwVdCOn",
        "outputId": "0fcd6863-92df-4ccc-87dd-870dc040ec1d"
      },
      "execution_count": 3,
      "outputs": [
        {
          "output_type": "stream",
          "name": "stdout",
          "text": [
            "Cloning into 'fastText'...\n",
            "remote: Enumerating objects: 3998, done.\u001b[K\n",
            "remote: Counting objects: 100% (1057/1057), done.\u001b[K\n",
            "remote: Compressing objects: 100% (196/196), done.\u001b[K\n",
            "remote: Total 3998 (delta 922), reused 884 (delta 856), pack-reused 2941 (from 1)\u001b[K\n",
            "Receiving objects: 100% (3998/3998), 8.30 MiB | 7.31 MiB/s, done.\n",
            "Resolving deltas: 100% (2529/2529), done.\n",
            "Updating files: 100% (520/520), done.\n"
          ]
        }
      ]
    },
    {
      "cell_type": "code",
      "source": [
        "!cd /content/drive/MyDrive/IndoML/last_day/fastText && mkdir build && cd build && cmake .."
      ],
      "metadata": {
        "colab": {
          "base_uri": "https://localhost:8080/"
        },
        "id": "-03SKdNXdT9_",
        "outputId": "16d5e74c-6beb-4d18-def3-0d83b7322fdc"
      },
      "execution_count": 4,
      "outputs": [
        {
          "output_type": "stream",
          "name": "stdout",
          "text": [
            "\u001b[0mCMake Deprecation Warning at CMakeLists.txt:9 (cmake_minimum_required):\n",
            "  Compatibility with CMake < 3.5 will be removed from a future version of\n",
            "  CMake.\n",
            "\n",
            "  Update the VERSION argument <min> value or use a ...<max> suffix to tell\n",
            "  CMake that the project does not need compatibility with older versions.\n",
            "\n",
            "\u001b[0m\n",
            "-- The C compiler identification is GNU 11.4.0\n",
            "-- The CXX compiler identification is GNU 11.4.0\n",
            "-- Detecting C compiler ABI info\n",
            "-- Detecting C compiler ABI info - done\n",
            "-- Check for working C compiler: /usr/bin/cc - skipped\n",
            "-- Detecting C compile features\n",
            "-- Detecting C compile features - done\n",
            "-- Detecting CXX compiler ABI info\n",
            "-- Detecting CXX compiler ABI info - done\n",
            "-- Check for working CXX compiler: /usr/bin/c++ - skipped\n",
            "-- Detecting CXX compile features\n",
            "-- Detecting CXX compile features - done\n",
            "-- Configuring done (2.6s)\n",
            "-- Generating done (0.6s)\n",
            "-- Build files have been written to: /content/drive/MyDrive/IndoML/last_day/fastText/build\n"
          ]
        }
      ]
    },
    {
      "cell_type": "code",
      "source": [
        "# prompt: make: *** No targets specified and no makefile found.  Stop.\n",
        "\n",
        "!cd /content/drive/MyDrive/IndoML/last_day/fastText/build && make && make install\n"
      ],
      "metadata": {
        "colab": {
          "base_uri": "https://localhost:8080/"
        },
        "id": "n_IX0MI3dwWR",
        "outputId": "316c4067-ffc5-4b02-fa95-268b8c379797"
      },
      "execution_count": 5,
      "outputs": [
        {
          "output_type": "stream",
          "name": "stdout",
          "text": [
            "[ -2%] \u001b[32mBuilding CXX object CMakeFiles/fasttext-shared.dir/src/args.cc.o\u001b[0m\n",
            "[  0%] \u001b[32mBuilding CXX object CMakeFiles/fasttext-shared.dir/src/autotune.cc.o\u001b[0m\n",
            "[  2%] \u001b[32mBuilding CXX object CMakeFiles/fasttext-shared.dir/src/densematrix.cc.o\u001b[0m\n",
            "[  4%] \u001b[32mBuilding CXX object CMakeFiles/fasttext-shared.dir/src/dictionary.cc.o\u001b[0m\n",
            "[  6%] \u001b[32mBuilding CXX object CMakeFiles/fasttext-shared.dir/src/fasttext.cc.o\u001b[0m\n",
            "[  8%] \u001b[32mBuilding CXX object CMakeFiles/fasttext-shared.dir/src/loss.cc.o\u001b[0m\n",
            "[ 10%] \u001b[32mBuilding CXX object CMakeFiles/fasttext-shared.dir/src/main.cc.o\u001b[0m\n",
            "[ 12%] \u001b[32mBuilding CXX object CMakeFiles/fasttext-shared.dir/src/matrix.cc.o\u001b[0m\n",
            "[ 14%] \u001b[32mBuilding CXX object CMakeFiles/fasttext-shared.dir/src/meter.cc.o\u001b[0m\n",
            "[ 17%] \u001b[32mBuilding CXX object CMakeFiles/fasttext-shared.dir/src/model.cc.o\u001b[0m\n",
            "[ 19%] \u001b[32mBuilding CXX object CMakeFiles/fasttext-shared.dir/src/productquantizer.cc.o\u001b[0m\n",
            "[ 21%] \u001b[32mBuilding CXX object CMakeFiles/fasttext-shared.dir/src/quantmatrix.cc.o\u001b[0m\n",
            "[ 23%] \u001b[32mBuilding CXX object CMakeFiles/fasttext-shared.dir/src/utils.cc.o\u001b[0m\n",
            "[ 25%] \u001b[32mBuilding CXX object CMakeFiles/fasttext-shared.dir/src/vector.cc.o\u001b[0m\n",
            "[ 27%] \u001b[32m\u001b[1mLinking CXX shared library libfasttext.so\u001b[0m\n",
            "[ 27%] Built target fasttext-shared\n",
            "[ 29%] \u001b[32mBuilding CXX object CMakeFiles/fasttext-static.dir/src/args.cc.o\u001b[0m\n",
            "[ 31%] \u001b[32mBuilding CXX object CMakeFiles/fasttext-static.dir/src/autotune.cc.o\u001b[0m\n",
            "[ 34%] \u001b[32mBuilding CXX object CMakeFiles/fasttext-static.dir/src/densematrix.cc.o\u001b[0m\n",
            "[ 36%] \u001b[32mBuilding CXX object CMakeFiles/fasttext-static.dir/src/dictionary.cc.o\u001b[0m\n",
            "[ 38%] \u001b[32mBuilding CXX object CMakeFiles/fasttext-static.dir/src/fasttext.cc.o\u001b[0m\n",
            "[ 40%] \u001b[32mBuilding CXX object CMakeFiles/fasttext-static.dir/src/loss.cc.o\u001b[0m\n",
            "[ 42%] \u001b[32mBuilding CXX object CMakeFiles/fasttext-static.dir/src/main.cc.o\u001b[0m\n",
            "[ 44%] \u001b[32mBuilding CXX object CMakeFiles/fasttext-static.dir/src/matrix.cc.o\u001b[0m\n",
            "[ 46%] \u001b[32mBuilding CXX object CMakeFiles/fasttext-static.dir/src/meter.cc.o\u001b[0m\n",
            "[ 48%] \u001b[32mBuilding CXX object CMakeFiles/fasttext-static.dir/src/model.cc.o\u001b[0m\n",
            "[ 51%] \u001b[32mBuilding CXX object CMakeFiles/fasttext-static.dir/src/productquantizer.cc.o\u001b[0m\n",
            "[ 53%] \u001b[32mBuilding CXX object CMakeFiles/fasttext-static.dir/src/quantmatrix.cc.o\u001b[0m\n",
            "[ 55%] \u001b[32mBuilding CXX object CMakeFiles/fasttext-static.dir/src/utils.cc.o\u001b[0m\n",
            "[ 57%] \u001b[32mBuilding CXX object CMakeFiles/fasttext-static.dir/src/vector.cc.o\u001b[0m\n",
            "[ 59%] \u001b[32m\u001b[1mLinking CXX static library libfasttext.a\u001b[0m\n",
            "[ 59%] Built target fasttext-static\n",
            "[ 61%] \u001b[32mBuilding CXX object CMakeFiles/fasttext-static_pic.dir/src/args.cc.o\u001b[0m\n",
            "[ 63%] \u001b[32mBuilding CXX object CMakeFiles/fasttext-static_pic.dir/src/autotune.cc.o\u001b[0m\n",
            "[ 65%] \u001b[32mBuilding CXX object CMakeFiles/fasttext-static_pic.dir/src/densematrix.cc.o\u001b[0m\n",
            "[ 68%] \u001b[32mBuilding CXX object CMakeFiles/fasttext-static_pic.dir/src/dictionary.cc.o\u001b[0m\n",
            "[ 70%] \u001b[32mBuilding CXX object CMakeFiles/fasttext-static_pic.dir/src/fasttext.cc.o\u001b[0m\n",
            "[ 72%] \u001b[32mBuilding CXX object CMakeFiles/fasttext-static_pic.dir/src/loss.cc.o\u001b[0m\n",
            "[ 74%] \u001b[32mBuilding CXX object CMakeFiles/fasttext-static_pic.dir/src/main.cc.o\u001b[0m\n",
            "[ 76%] \u001b[32mBuilding CXX object CMakeFiles/fasttext-static_pic.dir/src/matrix.cc.o\u001b[0m\n",
            "[ 78%] \u001b[32mBuilding CXX object CMakeFiles/fasttext-static_pic.dir/src/meter.cc.o\u001b[0m\n",
            "[ 80%] \u001b[32mBuilding CXX object CMakeFiles/fasttext-static_pic.dir/src/model.cc.o\u001b[0m\n",
            "[ 82%] \u001b[32mBuilding CXX object CMakeFiles/fasttext-static_pic.dir/src/productquantizer.cc.o\u001b[0m\n",
            "[ 85%] \u001b[32mBuilding CXX object CMakeFiles/fasttext-static_pic.dir/src/quantmatrix.cc.o\u001b[0m\n",
            "[ 87%] \u001b[32mBuilding CXX object CMakeFiles/fasttext-static_pic.dir/src/utils.cc.o\u001b[0m\n",
            "[ 89%] \u001b[32mBuilding CXX object CMakeFiles/fasttext-static_pic.dir/src/vector.cc.o\u001b[0m\n",
            "[ 91%] \u001b[32m\u001b[1mLinking CXX static library libfasttext_pic.a\u001b[0m\n",
            "[ 91%] Built target fasttext-static_pic\n",
            "[ 93%] \u001b[32mBuilding CXX object CMakeFiles/fasttext-bin.dir/src/main.cc.o\u001b[0m\n",
            "[ 95%] \u001b[32m\u001b[1mLinking CXX executable fasttext\u001b[0m\n",
            "[ 95%] Built target fasttext-bin\n",
            "[ 27%] Built target fasttext-shared\n",
            "[ 59%] Built target fasttext-static\n",
            "[ 91%] Built target fasttext-static_pic\n",
            "[ 95%] Built target fasttext-bin\n",
            "\u001b[36mInstall the project...\u001b[0m\n",
            "-- Install configuration: \"\"\n",
            "-- Installing: /usr/local/lib/pkgconfig/fasttext.pc\n",
            "-- Installing: /usr/local/lib/libfasttext.so.0\n",
            "-- Installing: /usr/local/lib/libfasttext.so\n",
            "-- Installing: /usr/local/lib/libfasttext.a\n",
            "-- Installing: /usr/local/lib/libfasttext_pic.a\n",
            "-- Installing: /usr/local/bin/fasttext\n",
            "-- Installing: /usr/local/include/fasttext/args.h\n",
            "-- Installing: /usr/local/include/fasttext/autotune.h\n",
            "-- Installing: /usr/local/include/fasttext/densematrix.h\n",
            "-- Installing: /usr/local/include/fasttext/dictionary.h\n",
            "-- Installing: /usr/local/include/fasttext/fasttext.h\n",
            "-- Installing: /usr/local/include/fasttext/loss.h\n",
            "-- Installing: /usr/local/include/fasttext/matrix.h\n",
            "-- Installing: /usr/local/include/fasttext/meter.h\n",
            "-- Installing: /usr/local/include/fasttext/model.h\n",
            "-- Installing: /usr/local/include/fasttext/productquantizer.h\n",
            "-- Installing: /usr/local/include/fasttext/quantmatrix.h\n",
            "-- Installing: /usr/local/include/fasttext/real.h\n",
            "-- Installing: /usr/local/include/fasttext/utils.h\n",
            "-- Installing: /usr/local/include/fasttext/vector.h\n"
          ]
        }
      ]
    },
    {
      "cell_type": "code",
      "source": [
        "import string\n",
        "import pandas as pd\n",
        "from tqdm import tqdm"
      ],
      "metadata": {
        "id": "ORcpOAmeeycg"
      },
      "execution_count": 6,
      "outputs": []
    },
    {
      "cell_type": "code",
      "source": [
        "x_train_df = pd.read_json(\"/content/drive/MyDrive/IndoML/Dataset/attribute_train.data\", lines=True)\n",
        "y_train_df = pd.read_json(\"/content/drive/MyDrive/IndoML/Dataset/attribute_train.solution\", lines=True)\n",
        "\n",
        "print(x_train_df.shape, y_train_df.shape)"
      ],
      "metadata": {
        "colab": {
          "base_uri": "https://localhost:8080/"
        },
        "id": "YL9zDW7Qe1WW",
        "outputId": "3d9ed10a-05ff-4bf0-dbd8-654aa13061c2"
      },
      "execution_count": 7,
      "outputs": [
        {
          "output_type": "stream",
          "name": "stdout",
          "text": [
            "(443499, 4) (443499, 7)\n"
          ]
        }
      ]
    },
    {
      "cell_type": "code",
      "source": [
        "\n",
        "x_val_df = pd.read_json(\"/content/drive/MyDrive/IndoML/Dataset/attribute_val.data\", lines=True)\n",
        "y_val_df = pd.read_json(\"/content/drive/MyDrive/IndoML/Dataset/attribute_val.solution\", lines=True)\n",
        "\n",
        "print(x_val_df.shape, y_val_df.shape)\n"
      ],
      "metadata": {
        "colab": {
          "base_uri": "https://localhost:8080/"
        },
        "id": "6QjPiJpce3bc",
        "outputId": "2e0540a2-fb00-423e-859e-cbe3b61b7814"
      },
      "execution_count": 8,
      "outputs": [
        {
          "output_type": "stream",
          "name": "stdout",
          "text": [
            "(95035, 4) (95035, 7)\n"
          ]
        }
      ]
    },
    {
      "cell_type": "code",
      "source": [
        "# Joing train and validation\n",
        "\n",
        "x_train_df = pd.concat([x_train_df, x_val_df], axis=0)\n",
        "y_train_df = pd.concat([y_train_df, y_val_df], axis=0)\n",
        "\n",
        "print(x_train_df.shape, y_train_df.shape)"
      ],
      "metadata": {
        "colab": {
          "base_uri": "https://localhost:8080/"
        },
        "id": "RQAFuKE2FLIO",
        "outputId": "83b2f9a7-e23a-4fff-98d6-d8a53846714f"
      },
      "execution_count": 9,
      "outputs": [
        {
          "output_type": "stream",
          "name": "stdout",
          "text": [
            "(538534, 4) (538534, 7)\n"
          ]
        }
      ]
    },
    {
      "cell_type": "code",
      "source": [
        "x_test_df = pd.read_json(\"/content/drive/MyDrive/IndoML/Dataset/attribute_test.data\", lines=True)\n",
        "print(x_test_df.shape)"
      ],
      "metadata": {
        "colab": {
          "base_uri": "https://localhost:8080/"
        },
        "id": "lCQF_DzNe4zY",
        "outputId": "9cf7b2be-b4a1-4529-c966-69c1bf452d4a"
      },
      "execution_count": 10,
      "outputs": [
        {
          "output_type": "stream",
          "name": "stdout",
          "text": [
            "(95036, 4)\n"
          ]
        }
      ]
    },
    {
      "cell_type": "code",
      "source": [
        "from nltk.corpus import stopwords\n",
        "import nltk\n",
        "nltk.download('punkt')\n",
        "nltk.download('stopwords')\n",
        "stop_words = set(stopwords.words('english'))\n",
        "\n",
        "def preprocess_features(text):\n",
        "  words = nltk.word_tokenize(text)\n",
        "  words = [word for word in words if word not in stop_words]\n",
        "  preprocessed_text = ' '.join(words)\n",
        "  return preprocessed_text\n",
        "\n",
        "\n",
        "def preprocess(df):\n",
        "  df.fillna(\"None\", inplace=True)\n",
        "  df[\"features\"] = \"title: \" + df[\"title\"] + \" \" + \"store: \" + df[\"store\"] + \" \" + \"manufacturer: \" + df[\"details_Manufacturer\"]\n",
        "  df[\"features\"] = df[\"features\"].str.lower()\n",
        "  df['features'] = df['features'].str.replace('[{}]'.format(string.punctuation), '', regex=True)\n",
        "  df['features'] = df['features'].str.replace('\\d+', '')\n",
        "  df['features'] = df['features'].apply(preprocess_features)\n",
        "\n",
        "  df[\"details_Brand\"] = df[\"details_Brand\"].str.replace(' ', '%%')\n",
        "  df[\"L0_category\"] = df[\"L0_category\"].str.replace(' ', '%%')\n",
        "  df[\"L1_category\"] = df[\"L1_category\"].str.replace(' ', '%%')\n",
        "  df[\"L2_category\"] = df[\"L2_category\"].str.replace(' ', '%%')\n",
        "  df[\"L3_category\"] = df[\"L3_category\"].str.replace(' ', '%%')\n",
        "  df[\"L4_category\"] = df[\"L4_category\"].str.replace(' ', '%%')\n",
        "  df[\"label\"] = '__label__' + df[\"details_Brand\"] + '__' + df[\"L0_category\"] + '__' + df[\"L1_category\"] + '__' + df[\"L2_category\"] + '__' + df[\"L3_category\"] + '__' + df[\"L4_category\"]\n",
        "  df[\"training_row\"] = df[\"label\"] + ' ' + df[\"features\"]\n",
        "  return df"
      ],
      "metadata": {
        "id": "JfWAUDdLe9Vo",
        "colab": {
          "base_uri": "https://localhost:8080/"
        },
        "outputId": "1b075096-053b-4739-c861-df92de0571e7"
      },
      "execution_count": 14,
      "outputs": [
        {
          "output_type": "stream",
          "name": "stderr",
          "text": [
            "[nltk_data] Downloading package punkt to /root/nltk_data...\n",
            "[nltk_data]   Unzipping tokenizers/punkt.zip.\n",
            "[nltk_data] Downloading package stopwords to /root/nltk_data...\n",
            "[nltk_data]   Unzipping corpora/stopwords.zip.\n"
          ]
        }
      ]
    },
    {
      "cell_type": "code",
      "source": [
        "x_train_df.sort_values(by=\"indoml_id\", ascending=True, inplace=True)\n",
        "y_train_df.sort_values(by=\"indoml_id\", ascending=True, inplace=True)\n",
        "\n",
        "train_df = pd.concat([x_train_df, y_train_df.drop(\"indoml_id\", axis=1)], axis=1)\n",
        "\n",
        "train_df = preprocess(train_df)"
      ],
      "metadata": {
        "id": "YLDdnV9Ge-lz"
      },
      "execution_count": 15,
      "outputs": []
    },
    {
      "cell_type": "code",
      "source": [
        "# x_val_df.sort_values(by=\"indoml_id\", ascending=True, inplace=True)\n",
        "# y_val_df.sort_values(by=\"indoml_id\", ascending=True, inplace=True)\n",
        "\n",
        "# val_df = pd.concat([x_val_df, y_val_df.drop(\"indoml_id\", axis=1)], axis=1)\n",
        "\n",
        "# val_df = preprocess(val_df)"
      ],
      "metadata": {
        "id": "r5SlSFTjfAH-"
      },
      "execution_count": null,
      "outputs": []
    },
    {
      "cell_type": "code",
      "source": [
        "training_rows = train_df[\"training_row\"].tolist()\n",
        "with open(\"/content/drive/MyDrive/IndoML/last_day/indoml_try1.train\", \"w\") as fp:\n",
        "  for row in tqdm(training_rows):\n",
        "    fp.write(row)\n",
        "    fp.write(\"\\n\")"
      ],
      "metadata": {
        "colab": {
          "base_uri": "https://localhost:8080/"
        },
        "id": "zv300PeefC3b",
        "outputId": "db514a8d-cfee-4c19-f90f-f73647f3e670"
      },
      "execution_count": 20,
      "outputs": [
        {
          "output_type": "stream",
          "name": "stderr",
          "text": [
            "100%|██████████| 538534/538534 [00:01<00:00, 434397.49it/s]\n"
          ]
        }
      ]
    },
    {
      "cell_type": "code",
      "source": [
        "# validation_rows = val_df[\"training_row\"].tolist()\n",
        "# with open(\"/content/drive/MyDrive/IndoML/data/indoml.val\", \"w\") as fp:\n",
        "#   for row in tqdm(validation_rows):\n",
        "#     fp.write(row)\n",
        "#     fp.write(\"\\n\")"
      ],
      "metadata": {
        "colab": {
          "base_uri": "https://localhost:8080/"
        },
        "id": "-QenavKrfD2p",
        "outputId": "040c97a0-7000-401d-f964-ca9dc37332f9"
      },
      "execution_count": null,
      "outputs": [
        {
          "output_type": "stream",
          "name": "stderr",
          "text": [
            "100%|██████████| 95035/95035 [00:00<00:00, 161547.63it/s]\n"
          ]
        }
      ]
    },
    {
      "cell_type": "code",
      "source": [
        "!cd /content/drive/MyDrive/IndoML/last_day/fastText && fasttext supervised -input /content/drive/MyDrive/IndoML/last_day/indoml_try1.train -epoch 7 -lr 1.0 -wordNgrams 2 -output /content/drive/MyDrive/IndoML/last_day/try1_model\n"
      ],
      "metadata": {
        "colab": {
          "base_uri": "https://localhost:8080/"
        },
        "id": "qX7xcb_2gQAE",
        "outputId": "507e160d-0428-49b5-ef88-7b60b7d5d108"
      },
      "execution_count": null,
      "outputs": [
        {
          "output_type": "stream",
          "name": "stdout",
          "text": [
            "Read 10M words\n",
            "Number of words:  426140\n",
            "Number of labels: 8362\n",
            "Progress:   1.5% words/sec/thread:     734 lr:  0.985192 avg.loss: 16.139814 ETA:   2h19m36s"
          ]
        }
      ]
    },
    {
      "cell_type": "code",
      "source": [
        "!cd fastText && fasttext --help"
      ],
      "metadata": {
        "colab": {
          "base_uri": "https://localhost:8080/"
        },
        "id": "qbV2Xd4sDPcq",
        "outputId": "1dba1b3c-0319-4e8b-9254-2576fa50b581"
      },
      "execution_count": null,
      "outputs": [
        {
          "output_type": "stream",
          "name": "stdout",
          "text": [
            "usage: fasttext <command> <args>\n",
            "\n",
            "The commands supported by fasttext are:\n",
            "\n",
            "  supervised              train a supervised classifier\n",
            "  quantize                quantize a model to reduce the memory usage\n",
            "  test                    evaluate a supervised classifier\n",
            "  test-label              print labels with precision and recall scores\n",
            "  predict                 predict most likely labels\n",
            "  predict-prob            predict most likely labels with probabilities\n",
            "  skipgram                train a skipgram model\n",
            "  cbow                    train a cbow model\n",
            "  print-word-vectors      print word vectors given a trained model\n",
            "  print-sentence-vectors  print sentence vectors given a trained model\n",
            "  print-ngrams            print ngrams given a trained model and word\n",
            "  nn                      query for nearest neighbors\n",
            "  analogies               query for analogies\n",
            "  dump                    dump arguments,dictionary,input/output vectors\n",
            "\n"
          ]
        }
      ]
    },
    {
      "cell_type": "code",
      "source": [
        "!pip install fasttext"
      ],
      "metadata": {
        "colab": {
          "base_uri": "https://localhost:8080/"
        },
        "id": "zPle4dXbEe-Y",
        "outputId": "96338b08-5c7e-4d3b-ca4e-c0b75c691024"
      },
      "execution_count": null,
      "outputs": [
        {
          "output_type": "stream",
          "name": "stdout",
          "text": [
            "Collecting fasttext\n",
            "  Downloading fasttext-0.9.3.tar.gz (73 kB)\n",
            "\u001b[?25l     \u001b[90m━━━━━━━━━━━━━━━━━━━━━━━━━━━━━━━━━━━━━━━━\u001b[0m \u001b[32m0.0/73.4 kB\u001b[0m \u001b[31m?\u001b[0m eta \u001b[36m-:--:--\u001b[0m\r\u001b[2K     \u001b[90m━━━━━━━━━━━━━━━━━━━━━━━━━━━━━━━━━━━━━━━━\u001b[0m \u001b[32m73.4/73.4 kB\u001b[0m \u001b[31m2.2 MB/s\u001b[0m eta \u001b[36m0:00:00\u001b[0m\n",
            "\u001b[?25h  Installing build dependencies ... \u001b[?25l\u001b[?25hdone\n",
            "  Getting requirements to build wheel ... \u001b[?25l\u001b[?25hdone\n",
            "  Preparing metadata (pyproject.toml) ... \u001b[?25l\u001b[?25hdone\n",
            "Collecting pybind11>=2.2 (from fasttext)\n",
            "  Using cached pybind11-2.13.5-py3-none-any.whl.metadata (9.5 kB)\n",
            "Requirement already satisfied: setuptools>=0.7.0 in /usr/local/lib/python3.10/dist-packages (from fasttext) (71.0.4)\n",
            "Requirement already satisfied: numpy in /usr/local/lib/python3.10/dist-packages (from fasttext) (1.26.4)\n",
            "Using cached pybind11-2.13.5-py3-none-any.whl (240 kB)\n",
            "Building wheels for collected packages: fasttext\n",
            "  Building wheel for fasttext (pyproject.toml) ... \u001b[?25l\u001b[?25hdone\n",
            "  Created wheel for fasttext: filename=fasttext-0.9.3-cp310-cp310-linux_x86_64.whl size=4246563 sha256=9a9d2946c8133e230f6a8db21e780426736df3a27c6a1bf46104ee0479bab372\n",
            "  Stored in directory: /root/.cache/pip/wheels/0d/a2/00/81db54d3e6a8199b829d58e02cec2ddb20ce3e59fad8d3c92a\n",
            "Successfully built fasttext\n",
            "Installing collected packages: pybind11, fasttext\n",
            "Successfully installed fasttext-0.9.3 pybind11-2.13.5\n"
          ]
        }
      ]
    },
    {
      "cell_type": "code",
      "source": [
        "import fasttext\n",
        "\n",
        "model = fasttext.load_model(\"/content/drive/MyDrive/IndoML/data/model_grams.bin\")\n",
        "\n",
        "x_test_df.fillna(\"None\", inplace=True)\n",
        "x_test_df[\"features\"] = \"title: \" + x_test_df[\"title\"] + \" \" + \"store: \" + x_test_df[\"store\"] + \" \" + \"manufacturer: \" + x_test_df[\"details_Manufacturer\"]\n",
        "\n",
        "x_test_df[\"features\"] = x_test_df[\"features\"].str.lower()\n",
        "x_test_df['features'] = x_test_df['features'].str.replace('[{}]'.format(string.punctuation), '', regex=True)\n",
        "x_test_df['features'] = x_test_df['features'].str.replace('\\d+', '')\n",
        "\n",
        "test_rows = x_test_df[\"features\"]\n",
        "\n",
        "test_result_list = []\n",
        "for index, row in tqdm(enumerate(test_rows)):\n",
        "  prediction = model.predict(row)\n",
        "  test_result_list.append(prediction[0][0])\n",
        "\n",
        "ids = x_test_df[\"indoml_id\"].tolist()\n",
        "\n",
        "category_list = []\n",
        "for index, row in enumerate(test_result_list):\n",
        "  row = row.replace('__label__', '')\n",
        "  details_Brand, L0_category, L1_category, L2_category, L3_category, L4_category = row.split('__')\n",
        "  details_Brand = details_Brand.replace('%%', ' ')\n",
        "  L0_category = L0_category.replace('%%', ' ')\n",
        "  L1_category = L1_category.replace('%%', ' ')\n",
        "  L2_category = L2_category.replace('%%', ' ')\n",
        "  L3_category = L3_category.replace('%%', ' ')\n",
        "  L4_category = L4_category.replace('%%', ' ')\n",
        "  category_dict = {\"indoml_id\": ids[index], \"details_Brand\": details_Brand, \"L0_category\": L0_category, \"L1_category\": L1_category, \"L2_category\": L2_category, \"L3_category\": L3_category, \"L4_category\": L4_category}\n",
        "  category_list.append(category_dict)\n",
        "\n",
        "import json\n",
        "with open(\"attribute_test_02092024.predict\", \"w\") as fp:\n",
        "  for row in category_list:\n",
        "    fp.write(json.dumps(row))\n",
        "    fp.write(\"\\n\")"
      ],
      "metadata": {
        "colab": {
          "base_uri": "https://localhost:8080/"
        },
        "id": "pGloZHSKEk7F",
        "outputId": "58fcd761-68e5-44b0-a70e-7cff878c0fbe"
      },
      "execution_count": null,
      "outputs": [
        {
          "output_type": "stream",
          "name": "stderr",
          "text": [
            "95036it [02:29, 636.06it/s]\n"
          ]
        }
      ]
    },
    {
      "cell_type": "code",
      "source": [
        "!cd fastText && fasttext test model_3grams.bin /content/drive/MyDrive/IndoML/data/indoml.val"
      ],
      "metadata": {
        "colab": {
          "base_uri": "https://localhost:8080/"
        },
        "id": "w3f_flS7-iiN",
        "outputId": "60035a6e-06ea-44a5-8d80-ee35b2925b0b"
      },
      "execution_count": null,
      "outputs": [
        {
          "output_type": "stream",
          "name": "stdout",
          "text": [
            "N\t95035\n",
            "P@1\t0.929\n",
            "R@1\t0.929\n"
          ]
        }
      ]
    }
  ]
}