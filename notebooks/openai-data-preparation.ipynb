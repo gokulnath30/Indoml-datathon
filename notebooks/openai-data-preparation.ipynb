{
 "cells": [
  {
   "cell_type": "code",
   "execution_count": 3,
   "metadata": {},
   "outputs": [],
   "source": [
    "import pandas as pd"
   ]
  },
  {
   "cell_type": "code",
   "execution_count": 4,
   "metadata": {},
   "outputs": [
    {
     "name": "stdout",
     "output_type": "stream",
     "text": [
      "(561838, 4) (561838, 5)\n"
     ]
    },
    {
     "data": {
      "text/plain": [
       "(561838, 9)"
      ]
     },
     "execution_count": 4,
     "metadata": {},
     "output_type": "execute_result"
    }
   ],
   "source": [
    "train_features_df = pd.read_json(r\"D:\\youtube\\hackathon\\training_data\\train.features\", lines=True)\n",
    "train_labels_df = pd.read_json(r\"D:\\youtube\\hackathon\\training_data\\train.labels\", lines=True)\n",
    "print(train_features_df.shape, train_labels_df.shape)\n",
    "train_df = pd.merge(train_features_df, train_labels_df, on=\"indoml_id\")\n",
    "train_df[\"label\"] = train_df['supergroup']  + \" __\" + train_df['group'] + \" __\" + train_df['module'] + \" __\" + train_df['brand']\n",
    "count_df = train_df[\"label\"].value_counts().reset_index()\n",
    "train_df.shape"
   ]
  },
  {
   "cell_type": "code",
   "execution_count": 5,
   "metadata": {},
   "outputs": [
    {
     "data": {
      "text/plain": [
       "(553187, 9)"
      ]
     },
     "execution_count": 5,
     "metadata": {},
     "output_type": "execute_result"
    }
   ],
   "source": [
    "# Identify single labels\n",
    "single_label = count_df[count_df[\"count\"] < 5][\"label\"].tolist()\n",
    "single_label_df = train_df[train_df[\"label\"].isin(single_label)]\n",
    "\n",
    "train_df = train_df[~train_df[\"label\"].isin(single_label)]\n",
    "train_df.shape"
   ]
  },
  {
   "cell_type": "code",
   "execution_count": 6,
   "metadata": {},
   "outputs": [
    {
     "name": "stdout",
     "output_type": "stream",
     "text": [
      "Undersampled df shape:  (17430, 9)\n"
     ]
    },
    {
     "data": {
      "text/plain": [
       "(544408, 9)"
      ]
     },
     "execution_count": 6,
     "metadata": {},
     "output_type": "execute_result"
    }
   ],
   "source": [
    "# From the remaining ones, pick one sample per label\n",
    "df_min_samples = train_df.groupby('label').apply(lambda x: x.sample(1)).reset_index(drop=True)\n",
    "undersampled_df = pd.concat([single_label_df, df_min_samples], axis=0)\n",
    "print(\"Undersampled df shape: \", undersampled_df.shape)\n",
    "train_df = train_df[~train_df[\"indoml_id\"].isin(df_min_samples[\"indoml_id\"])]\n",
    "train_df.shape"
   ]
  },
  {
   "cell_type": "code",
   "execution_count": 7,
   "metadata": {},
   "outputs": [
    {
     "data": {
      "text/plain": [
       "(26230, 9)"
      ]
     },
     "execution_count": 7,
     "metadata": {},
     "output_type": "execute_result"
    }
   ],
   "source": [
    "# From the reamining data, add 30000 rows\n",
    "# perform stratified split based on brand\n",
    "from sklearn.model_selection import train_test_split\n",
    "remaining_df, val_df = train_test_split(train_df, train_size=8800, stratify=train_df['label'], random_state=42)\n",
    "undersampled_df = pd.concat([undersampled_df, remaining_df], axis=0)\n",
    "undersampled_df.shape"
   ]
  },
  {
   "cell_type": "code",
   "execution_count": 8,
   "metadata": {},
   "outputs": [
    {
     "data": {
      "text/plain": [
       "(26230, 9)"
      ]
     },
     "execution_count": 8,
     "metadata": {},
     "output_type": "execute_result"
    }
   ],
   "source": [
    "undersampled_df.shape"
   ]
  },
  {
   "cell_type": "code",
   "execution_count": 9,
   "metadata": {},
   "outputs": [
    {
     "name": "stdout",
     "output_type": "stream",
     "text": [
      "Number of missing labels: 0\n"
     ]
    }
   ],
   "source": [
    "### Validation\n",
    "missing_labels = set(count_df[\"label\"]) - set(undersampled_df[\"label\"])\n",
    "count = len(missing_labels)\n",
    "\n",
    "print(f\"Number of missing labels: {count}\")\n"
   ]
  },
  {
   "cell_type": "code",
   "execution_count": 10,
   "metadata": {},
   "outputs": [
    {
     "data": {
      "text/plain": [
       "1.6"
      ]
     },
     "execution_count": 10,
     "metadata": {},
     "output_type": "execute_result"
    }
   ],
   "source": [
    "undersampled_df[\"price\"].median()"
   ]
  },
  {
   "cell_type": "code",
   "execution_count": 11,
   "metadata": {},
   "outputs": [],
   "source": [
    "undersampled_df[\"price\"].fillna(undersampled_df[\"price\"].median(), inplace=True)"
   ]
  },
  {
   "cell_type": "code",
   "execution_count": null,
   "metadata": {},
   "outputs": [],
   "source": []
  },
  {
   "cell_type": "code",
   "execution_count": null,
   "metadata": {},
   "outputs": [],
   "source": []
  },
  {
   "cell_type": "code",
   "execution_count": 12,
   "metadata": {},
   "outputs": [],
   "source": [
    "undersampled_df[\"prompt\"] =  undersampled_df[\"description\"] + \" | \" + undersampled_df[\"retailer\"] + \" | \" + str(undersampled_df[\"price\"])"
   ]
  },
  {
   "cell_type": "code",
   "execution_count": 13,
   "metadata": {},
   "outputs": [
    {
     "data": {
      "text/html": [
       "<div>\n",
       "<style scoped>\n",
       "    .dataframe tbody tr th:only-of-type {\n",
       "        vertical-align: middle;\n",
       "    }\n",
       "\n",
       "    .dataframe tbody tr th {\n",
       "        vertical-align: top;\n",
       "    }\n",
       "\n",
       "    .dataframe thead th {\n",
       "        text-align: right;\n",
       "    }\n",
       "</style>\n",
       "<table border=\"1\" class=\"dataframe\">\n",
       "  <thead>\n",
       "    <tr style=\"text-align: right;\">\n",
       "      <th></th>\n",
       "      <th>indoml_id</th>\n",
       "      <th>description</th>\n",
       "      <th>retailer</th>\n",
       "      <th>price</th>\n",
       "      <th>supergroup</th>\n",
       "      <th>group</th>\n",
       "      <th>module</th>\n",
       "      <th>brand</th>\n",
       "      <th>label</th>\n",
       "      <th>prompt</th>\n",
       "    </tr>\n",
       "  </thead>\n",
       "  <tbody>\n",
       "    <tr>\n",
       "      <th>2334</th>\n",
       "      <td>2334</td>\n",
       "      <td>pbaby disposable bed mats 10 s</td>\n",
       "      <td>herbgrove</td>\n",
       "      <td>2.99</td>\n",
       "      <td>baby care</td>\n",
       "      <td>baby care detail unknown total</td>\n",
       "      <td>baby care</td>\n",
       "      <td>pure baby</td>\n",
       "      <td>baby care __baby care detail unknown total __b...</td>\n",
       "      <td>pbaby disposable bed mats 10 s | herbgrove | 2...</td>\n",
       "    </tr>\n",
       "    <tr>\n",
       "      <th>2366</th>\n",
       "      <td>2366</td>\n",
       "      <td>sense weaning spoon</td>\n",
       "      <td>vibrantmart</td>\n",
       "      <td>3.49</td>\n",
       "      <td>baby care</td>\n",
       "      <td>baby feeding accessories</td>\n",
       "      <td>baby feeding accessories</td>\n",
       "      <td>crispcorner</td>\n",
       "      <td>baby care __baby feeding accessories __baby fe...</td>\n",
       "      <td>sense weaning spoon | vibrantmart | 2334      ...</td>\n",
       "    </tr>\n",
       "    <tr>\n",
       "      <th>2383</th>\n",
       "      <td>2383</td>\n",
       "      <td>dm br o bottle</td>\n",
       "      <td>producify</td>\n",
       "      <td>1.35</td>\n",
       "      <td>baby care</td>\n",
       "      <td>baby feeding accessories</td>\n",
       "      <td>baby feeding accessories</td>\n",
       "      <td>dr browns</td>\n",
       "      <td>baby care __baby feeding accessories __baby fe...</td>\n",
       "      <td>dm br o bottle | producify | 2334      2.99\\n2...</td>\n",
       "    </tr>\n",
       "    <tr>\n",
       "      <th>2384</th>\n",
       "      <td>2384</td>\n",
       "      <td>mur jcy bmb cct</td>\n",
       "      <td>freshnosh</td>\n",
       "      <td>5.00</td>\n",
       "      <td>baby care</td>\n",
       "      <td>baby feeding accessories</td>\n",
       "      <td>baby feeding accessories</td>\n",
       "      <td>dr browns</td>\n",
       "      <td>baby care __baby feeding accessories __baby fe...</td>\n",
       "      <td>mur jcy bmb cct | freshnosh | 2334      2.99\\n...</td>\n",
       "    </tr>\n",
       "    <tr>\n",
       "      <th>2385</th>\n",
       "      <td>2385</td>\n",
       "      <td>dr js sterilising fluid 1 l</td>\n",
       "      <td>herbgrove</td>\n",
       "      <td>0.89</td>\n",
       "      <td>baby care</td>\n",
       "      <td>baby feeding accessories</td>\n",
       "      <td>baby feeding accessories</td>\n",
       "      <td>dr johnsons</td>\n",
       "      <td>baby care __baby feeding accessories __baby fe...</td>\n",
       "      <td>dr js sterilising fluid 1 l | herbgrove | 2334...</td>\n",
       "    </tr>\n",
       "  </tbody>\n",
       "</table>\n",
       "</div>"
      ],
      "text/plain": [
       "      indoml_id                     description     retailer  price  \\\n",
       "2334       2334  pbaby disposable bed mats 10 s    herbgrove   2.99   \n",
       "2366       2366             sense weaning spoon  vibrantmart   3.49   \n",
       "2383       2383                  dm br o bottle    producify   1.35   \n",
       "2384       2384                 mur jcy bmb cct    freshnosh   5.00   \n",
       "2385       2385     dr js sterilising fluid 1 l    herbgrove   0.89   \n",
       "\n",
       "     supergroup                           group                    module  \\\n",
       "2334  baby care  baby care detail unknown total                 baby care   \n",
       "2366  baby care        baby feeding accessories  baby feeding accessories   \n",
       "2383  baby care        baby feeding accessories  baby feeding accessories   \n",
       "2384  baby care        baby feeding accessories  baby feeding accessories   \n",
       "2385  baby care        baby feeding accessories  baby feeding accessories   \n",
       "\n",
       "            brand                                              label  \\\n",
       "2334    pure baby  baby care __baby care detail unknown total __b...   \n",
       "2366  crispcorner  baby care __baby feeding accessories __baby fe...   \n",
       "2383    dr browns  baby care __baby feeding accessories __baby fe...   \n",
       "2384    dr browns  baby care __baby feeding accessories __baby fe...   \n",
       "2385  dr johnsons  baby care __baby feeding accessories __baby fe...   \n",
       "\n",
       "                                                 prompt  \n",
       "2334  pbaby disposable bed mats 10 s | herbgrove | 2...  \n",
       "2366  sense weaning spoon | vibrantmart | 2334      ...  \n",
       "2383  dm br o bottle | producify | 2334      2.99\\n2...  \n",
       "2384  mur jcy bmb cct | freshnosh | 2334      2.99\\n...  \n",
       "2385  dr js sterilising fluid 1 l | herbgrove | 2334...  "
      ]
     },
     "execution_count": 13,
     "metadata": {},
     "output_type": "execute_result"
    }
   ],
   "source": [
    "undersampled_df.head()"
   ]
  },
  {
   "cell_type": "code",
   "execution_count": 14,
   "metadata": {},
   "outputs": [
    {
     "name": "stderr",
     "output_type": "stream",
     "text": [
      "0it [00:00, ?it/s]"
     ]
    },
    {
     "name": "stderr",
     "output_type": "stream",
     "text": [
      "26230it [00:01, 22088.27it/s]\n"
     ]
    }
   ],
   "source": [
    "import json\n",
    "from tqdm import tqdm\n",
    "max_length = 0\n",
    "label_list = []\n",
    "prompt_list = []\n",
    "for _, row in tqdm(undersampled_df.iterrows()):\n",
    "    template = []\n",
    "    desc = row[\"description\"]\n",
    "    retailer = row[\"retailer\"]\n",
    "    price = row[\"price\"]\n",
    "    human_val = f\"{desc} | {retailer} | {price}\"\n",
    "    prompt_list.append(human_val)\n",
    "    gpt_val = row[\"label\"]\n",
    "    label_list.append(gpt_val)\n"
   ]
  },
  {
   "cell_type": "code",
   "execution_count": 15,
   "metadata": {},
   "outputs": [
    {
     "data": {
      "text/html": [
       "<div>\n",
       "<style scoped>\n",
       "    .dataframe tbody tr th:only-of-type {\n",
       "        vertical-align: middle;\n",
       "    }\n",
       "\n",
       "    .dataframe tbody tr th {\n",
       "        vertical-align: top;\n",
       "    }\n",
       "\n",
       "    .dataframe thead th {\n",
       "        text-align: right;\n",
       "    }\n",
       "</style>\n",
       "<table border=\"1\" class=\"dataframe\">\n",
       "  <thead>\n",
       "    <tr style=\"text-align: right;\">\n",
       "      <th></th>\n",
       "      <th>prompt</th>\n",
       "      <th>completion</th>\n",
       "    </tr>\n",
       "  </thead>\n",
       "  <tbody>\n",
       "    <tr>\n",
       "      <th>0</th>\n",
       "      <td>pbaby disposable bed mats 10 s | herbgrove | 2.99</td>\n",
       "      <td>baby care __baby care detail unknown total __b...</td>\n",
       "    </tr>\n",
       "    <tr>\n",
       "      <th>1</th>\n",
       "      <td>sense weaning spoon | vibrantmart | 3.49</td>\n",
       "      <td>baby care __baby feeding accessories __baby fe...</td>\n",
       "    </tr>\n",
       "    <tr>\n",
       "      <th>2</th>\n",
       "      <td>dm br o bottle | producify | 1.35</td>\n",
       "      <td>baby care __baby feeding accessories __baby fe...</td>\n",
       "    </tr>\n",
       "    <tr>\n",
       "      <th>3</th>\n",
       "      <td>mur jcy bmb cct | freshnosh | 5.0</td>\n",
       "      <td>baby care __baby feeding accessories __baby fe...</td>\n",
       "    </tr>\n",
       "    <tr>\n",
       "      <th>4</th>\n",
       "      <td>dr js sterilising fluid 1 l | herbgrove | 0.89</td>\n",
       "      <td>baby care __baby feeding accessories __baby fe...</td>\n",
       "    </tr>\n",
       "  </tbody>\n",
       "</table>\n",
       "</div>"
      ],
      "text/plain": [
       "                                              prompt  \\\n",
       "0  pbaby disposable bed mats 10 s | herbgrove | 2.99   \n",
       "1           sense weaning spoon | vibrantmart | 3.49   \n",
       "2                  dm br o bottle | producify | 1.35   \n",
       "3                  mur jcy bmb cct | freshnosh | 5.0   \n",
       "4     dr js sterilising fluid 1 l | herbgrove | 0.89   \n",
       "\n",
       "                                          completion  \n",
       "0  baby care __baby care detail unknown total __b...  \n",
       "1  baby care __baby feeding accessories __baby fe...  \n",
       "2  baby care __baby feeding accessories __baby fe...  \n",
       "3  baby care __baby feeding accessories __baby fe...  \n",
       "4  baby care __baby feeding accessories __baby fe...  "
      ]
     },
     "execution_count": 15,
     "metadata": {},
     "output_type": "execute_result"
    }
   ],
   "source": [
    "df = pd.DataFrame(zip(prompt_list, label_list), columns = ['prompt','completion'])\n",
    "df.head()"
   ]
  },
  {
   "cell_type": "code",
   "execution_count": 16,
   "metadata": {},
   "outputs": [
    {
     "data": {
      "text/plain": [
       "(26230, 2)"
      ]
     },
     "execution_count": 16,
     "metadata": {},
     "output_type": "execute_result"
    }
   ],
   "source": [
    "df.shape"
   ]
  },
  {
   "cell_type": "code",
   "execution_count": 69,
   "metadata": {},
   "outputs": [],
   "source": [
    "df.to_json(\"openai_training.jsonl\", orient='records', lines=True)"
   ]
  },
  {
   "cell_type": "code",
   "execution_count": 17,
   "metadata": {},
   "outputs": [
    {
     "name": "stdout",
     "output_type": "stream",
     "text": [
      "Analyzing...\n",
      "\n",
      "- Your file contains 26230 prompt-completion pairs\n",
      "- Your data does not contain a common separator at the end of your prompts. Having a separator string appended to the end of the prompt makes it clearer to the fine-tuned model where the completion should begin. See https://platform.openai.com/docs/guides/fine-tuning/preparing-your-dataset for more detail and examples. If you intend to do open-ended generation, then you should leave the prompts empty\n",
      "- Your data does not contain a common ending at the end of your completions. Having a common ending string appended to the end of the completion makes it clearer to the fine-tuned model where the completion should end. See https://platform.openai.com/docs/guides/fine-tuning/preparing-your-dataset for more detail and examples.\n",
      "- The completion should start with a whitespace character (` `). This tends to produce better results due to the tokenization we use. See https://platform.openai.com/docs/guides/fine-tuning/preparing-your-dataset for more details\n",
      "\n",
      "Based on the analysis we will perform the following actions:\n",
      "- [Recommended] Add a suffix separator ` ->` to all prompts [Y/n]: Y\n",
      "- [Recommended] Add a suffix ending `\\n` to all completions [Y/n]: Y\n",
      "- [Recommended] Add a whitespace character to the beginning of the completion [Y/n]: Y\n",
      "\n",
      "\n",
      "Your data will be written to a new JSONL file. Proceed [Y/n]: Y\n",
      "\n",
      "Wrote modified file to `openai_training_prepared.jsonl`\n",
      "Feel free to take a look!\n",
      "\n",
      "Now use that file when fine-tuning:\n",
      "> openai api fine_tunes.create -t \"openai_training_prepared.jsonl\"\n",
      "\n",
      "After you’ve fine-tuned a model, remember that your prompt has to end with the indicator string ` ->` for the model to start generating completions, rather than continuing with the prompt. Make sure to include `stop=[\"\\n\"]` so that the generated texts ends at the expected place.\n",
      "Once your model starts training, it'll approximately take 6.04 hours to train a `curie` model, and less for `ada` and `babbage`. Queue will approximately take half an hour per job ahead of you.\n"
     ]
    }
   ],
   "source": [
    "!openai tools fine_tunes.prepare_data -f openai_training.jsonl -q"
   ]
  },
  {
   "cell_type": "code",
   "execution_count": 18,
   "metadata": {},
   "outputs": [
    {
     "data": {
      "text/plain": [
       "Dataset({\n",
       "    features: ['prompt', 'completion'],\n",
       "    num_rows: 26230\n",
       "})"
      ]
     },
     "execution_count": 18,
     "metadata": {},
     "output_type": "execute_result"
    }
   ],
   "source": [
    "from datasets import Dataset\n",
    "dataset = Dataset.from_pandas(df)\n",
    "dataset\n"
   ]
  },
  {
   "cell_type": "code",
   "execution_count": 19,
   "metadata": {},
   "outputs": [],
   "source": [
    "# import huggingface_hub\n",
    "# huggingface_hub.login()"
   ]
  },
  {
   "cell_type": "code",
   "execution_count": 20,
   "metadata": {},
   "outputs": [],
   "source": [
    "# dataset.push_to_hub(\"srinathmkce/indoml_openai_training\", private=True)"
   ]
  },
  {
   "cell_type": "code",
   "execution_count": null,
   "metadata": {},
   "outputs": [],
   "source": []
  },
  {
   "cell_type": "code",
   "execution_count": 21,
   "metadata": {},
   "outputs": [],
   "source": [
    "import tiktoken\n",
    "encoding = tiktoken.get_encoding(\"cl100k_base\")\n"
   ]
  },
  {
   "cell_type": "code",
   "execution_count": 22,
   "metadata": {},
   "outputs": [
    {
     "name": "stdout",
     "output_type": "stream",
     "text": [
      "{'prompt': 'pbaby disposable bed mats 10 s | herbgrove | 2.99', 'completion': 'baby care __baby care detail unknown total __baby care __pure baby'}\n"
     ]
    }
   ],
   "source": []
  },
  {
   "cell_type": "code",
   "execution_count": 23,
   "metadata": {},
   "outputs": [
    {
     "name": "stderr",
     "output_type": "stream",
     "text": [
      "100%|██████████| 26230/26230 [00:02<00:00, 11633.57it/s]\n"
     ]
    },
    {
     "data": {
      "text/plain": [
       "1161143"
      ]
     },
     "execution_count": 23,
     "metadata": {},
     "output_type": "execute_result"
    }
   ],
   "source": [
    "length = 0\n",
    "for conversaation in tqdm(dataset):\n",
    "    token_count = len(encoding.encode(json.dumps(conversaation)))\n",
    "    length += token_count\n",
    "\n",
    "length"
   ]
  },
  {
   "cell_type": "code",
   "execution_count": 24,
   "metadata": {},
   "outputs": [
    {
     "data": {
      "text/plain": [
       "1.161143"
      ]
     },
     "execution_count": 24,
     "metadata": {},
     "output_type": "execute_result"
    }
   ],
   "source": [
    "length / 10 ** 6"
   ]
  },
  {
   "cell_type": "code",
   "execution_count": 25,
   "metadata": {},
   "outputs": [
    {
     "data": {
      "text/html": [
       "<div>\n",
       "<style scoped>\n",
       "    .dataframe tbody tr th:only-of-type {\n",
       "        vertical-align: middle;\n",
       "    }\n",
       "\n",
       "    .dataframe tbody tr th {\n",
       "        vertical-align: top;\n",
       "    }\n",
       "\n",
       "    .dataframe thead th {\n",
       "        text-align: right;\n",
       "    }\n",
       "</style>\n",
       "<table border=\"1\" class=\"dataframe\">\n",
       "  <thead>\n",
       "    <tr style=\"text-align: right;\">\n",
       "      <th></th>\n",
       "      <th>label</th>\n",
       "      <th>count</th>\n",
       "    </tr>\n",
       "  </thead>\n",
       "  <tbody>\n",
       "    <tr>\n",
       "      <th>0</th>\n",
       "      <td>clothing &amp; personal accessories __clothing &amp; p...</td>\n",
       "      <td>627</td>\n",
       "    </tr>\n",
       "    <tr>\n",
       "      <th>1</th>\n",
       "      <td>stationery &amp; printed material &amp; services __sta...</td>\n",
       "      <td>570</td>\n",
       "    </tr>\n",
       "    <tr>\n",
       "      <th>2</th>\n",
       "      <td>garden &amp; flora __garden &amp; flora detail unknown...</td>\n",
       "      <td>189</td>\n",
       "    </tr>\n",
       "    <tr>\n",
       "      <th>3</th>\n",
       "      <td>home furnishings &amp; decor __home furnishings &amp; ...</td>\n",
       "      <td>182</td>\n",
       "    </tr>\n",
       "    <tr>\n",
       "      <th>4</th>\n",
       "      <td>toys __toys detail unknown total __toys __rece...</td>\n",
       "      <td>180</td>\n",
       "    </tr>\n",
       "    <tr>\n",
       "      <th>...</th>\n",
       "      <td>...</td>\n",
       "      <td>...</td>\n",
       "    </tr>\n",
       "    <tr>\n",
       "      <th>12880</th>\n",
       "      <td>food ambient __fruit nuts ambient __nuts ambie...</td>\n",
       "      <td>1</td>\n",
       "    </tr>\n",
       "    <tr>\n",
       "      <th>12881</th>\n",
       "      <td>food perishable __sweet pastry dough fresh __s...</td>\n",
       "      <td>1</td>\n",
       "    </tr>\n",
       "    <tr>\n",
       "      <th>12882</th>\n",
       "      <td>food perishable __sweet pastry dough fresh __s...</td>\n",
       "      <td>1</td>\n",
       "    </tr>\n",
       "    <tr>\n",
       "      <th>12883</th>\n",
       "      <td>food ambient __fruit nuts ambient __nuts ambie...</td>\n",
       "      <td>1</td>\n",
       "    </tr>\n",
       "    <tr>\n",
       "      <th>12884</th>\n",
       "      <td>baby care __baby care detail unknown total __b...</td>\n",
       "      <td>1</td>\n",
       "    </tr>\n",
       "  </tbody>\n",
       "</table>\n",
       "<p>12885 rows × 2 columns</p>\n",
       "</div>"
      ],
      "text/plain": [
       "                                                   label  count\n",
       "0      clothing & personal accessories __clothing & p...    627\n",
       "1      stationery & printed material & services __sta...    570\n",
       "2      garden & flora __garden & flora detail unknown...    189\n",
       "3      home furnishings & decor __home furnishings & ...    182\n",
       "4      toys __toys detail unknown total __toys __rece...    180\n",
       "...                                                  ...    ...\n",
       "12880  food ambient __fruit nuts ambient __nuts ambie...      1\n",
       "12881  food perishable __sweet pastry dough fresh __s...      1\n",
       "12882  food perishable __sweet pastry dough fresh __s...      1\n",
       "12883  food ambient __fruit nuts ambient __nuts ambie...      1\n",
       "12884  baby care __baby care detail unknown total __b...      1\n",
       "\n",
       "[12885 rows x 2 columns]"
      ]
     },
     "execution_count": 25,
     "metadata": {},
     "output_type": "execute_result"
    }
   ],
   "source": [
    "undersampled_df[\"label\"].value_counts().reset_index()"
   ]
  },
  {
   "cell_type": "code",
   "execution_count": 26,
   "metadata": {},
   "outputs": [
    {
     "data": {
      "text/html": [
       "<div>\n",
       "<style scoped>\n",
       "    .dataframe tbody tr th:only-of-type {\n",
       "        vertical-align: middle;\n",
       "    }\n",
       "\n",
       "    .dataframe tbody tr th {\n",
       "        vertical-align: top;\n",
       "    }\n",
       "\n",
       "    .dataframe thead th {\n",
       "        text-align: right;\n",
       "    }\n",
       "</style>\n",
       "<table border=\"1\" class=\"dataframe\">\n",
       "  <thead>\n",
       "    <tr style=\"text-align: right;\">\n",
       "      <th></th>\n",
       "      <th>indoml_id</th>\n",
       "      <th>description</th>\n",
       "      <th>retailer</th>\n",
       "      <th>price</th>\n",
       "      <th>supergroup</th>\n",
       "      <th>group</th>\n",
       "      <th>module</th>\n",
       "      <th>brand</th>\n",
       "      <th>label</th>\n",
       "      <th>prompt</th>\n",
       "    </tr>\n",
       "  </thead>\n",
       "  <tbody>\n",
       "    <tr>\n",
       "      <th>2334</th>\n",
       "      <td>2334</td>\n",
       "      <td>pbaby disposable bed mats 10 s</td>\n",
       "      <td>herbgrove</td>\n",
       "      <td>2.99</td>\n",
       "      <td>baby care</td>\n",
       "      <td>baby care detail unknown total</td>\n",
       "      <td>baby care</td>\n",
       "      <td>pure baby</td>\n",
       "      <td>baby care __baby care detail unknown total __b...</td>\n",
       "      <td>pbaby disposable bed mats 10 s | herbgrove | 2...</td>\n",
       "    </tr>\n",
       "    <tr>\n",
       "      <th>2366</th>\n",
       "      <td>2366</td>\n",
       "      <td>sense weaning spoon</td>\n",
       "      <td>vibrantmart</td>\n",
       "      <td>3.49</td>\n",
       "      <td>baby care</td>\n",
       "      <td>baby feeding accessories</td>\n",
       "      <td>baby feeding accessories</td>\n",
       "      <td>crispcorner</td>\n",
       "      <td>baby care __baby feeding accessories __baby fe...</td>\n",
       "      <td>sense weaning spoon | vibrantmart | 2334      ...</td>\n",
       "    </tr>\n",
       "    <tr>\n",
       "      <th>2383</th>\n",
       "      <td>2383</td>\n",
       "      <td>dm br o bottle</td>\n",
       "      <td>producify</td>\n",
       "      <td>1.35</td>\n",
       "      <td>baby care</td>\n",
       "      <td>baby feeding accessories</td>\n",
       "      <td>baby feeding accessories</td>\n",
       "      <td>dr browns</td>\n",
       "      <td>baby care __baby feeding accessories __baby fe...</td>\n",
       "      <td>dm br o bottle | producify | 2334      2.99\\n2...</td>\n",
       "    </tr>\n",
       "    <tr>\n",
       "      <th>2384</th>\n",
       "      <td>2384</td>\n",
       "      <td>mur jcy bmb cct</td>\n",
       "      <td>freshnosh</td>\n",
       "      <td>5.00</td>\n",
       "      <td>baby care</td>\n",
       "      <td>baby feeding accessories</td>\n",
       "      <td>baby feeding accessories</td>\n",
       "      <td>dr browns</td>\n",
       "      <td>baby care __baby feeding accessories __baby fe...</td>\n",
       "      <td>mur jcy bmb cct | freshnosh | 2334      2.99\\n...</td>\n",
       "    </tr>\n",
       "    <tr>\n",
       "      <th>2385</th>\n",
       "      <td>2385</td>\n",
       "      <td>dr js sterilising fluid 1 l</td>\n",
       "      <td>herbgrove</td>\n",
       "      <td>0.89</td>\n",
       "      <td>baby care</td>\n",
       "      <td>baby feeding accessories</td>\n",
       "      <td>baby feeding accessories</td>\n",
       "      <td>dr johnsons</td>\n",
       "      <td>baby care __baby feeding accessories __baby fe...</td>\n",
       "      <td>dr js sterilising fluid 1 l | herbgrove | 2334...</td>\n",
       "    </tr>\n",
       "  </tbody>\n",
       "</table>\n",
       "</div>"
      ],
      "text/plain": [
       "      indoml_id                     description     retailer  price  \\\n",
       "2334       2334  pbaby disposable bed mats 10 s    herbgrove   2.99   \n",
       "2366       2366             sense weaning spoon  vibrantmart   3.49   \n",
       "2383       2383                  dm br o bottle    producify   1.35   \n",
       "2384       2384                 mur jcy bmb cct    freshnosh   5.00   \n",
       "2385       2385     dr js sterilising fluid 1 l    herbgrove   0.89   \n",
       "\n",
       "     supergroup                           group                    module  \\\n",
       "2334  baby care  baby care detail unknown total                 baby care   \n",
       "2366  baby care        baby feeding accessories  baby feeding accessories   \n",
       "2383  baby care        baby feeding accessories  baby feeding accessories   \n",
       "2384  baby care        baby feeding accessories  baby feeding accessories   \n",
       "2385  baby care        baby feeding accessories  baby feeding accessories   \n",
       "\n",
       "            brand                                              label  \\\n",
       "2334    pure baby  baby care __baby care detail unknown total __b...   \n",
       "2366  crispcorner  baby care __baby feeding accessories __baby fe...   \n",
       "2383    dr browns  baby care __baby feeding accessories __baby fe...   \n",
       "2384    dr browns  baby care __baby feeding accessories __baby fe...   \n",
       "2385  dr johnsons  baby care __baby feeding accessories __baby fe...   \n",
       "\n",
       "                                                 prompt  \n",
       "2334  pbaby disposable bed mats 10 s | herbgrove | 2...  \n",
       "2366  sense weaning spoon | vibrantmart | 2334      ...  \n",
       "2383  dm br o bottle | producify | 2334      2.99\\n2...  \n",
       "2384  mur jcy bmb cct | freshnosh | 2334      2.99\\n...  \n",
       "2385  dr js sterilising fluid 1 l | herbgrove | 2334...  "
      ]
     },
     "execution_count": 26,
     "metadata": {},
     "output_type": "execute_result"
    }
   ],
   "source": [
    "undersampled_df.head()"
   ]
  },
  {
   "cell_type": "code",
   "execution_count": null,
   "metadata": {},
   "outputs": [],
   "source": []
  }
 ],
 "metadata": {
  "kernelspec": {
   "display_name": "base",
   "language": "python",
   "name": "python3"
  },
  "language_info": {
   "codemirror_mode": {
    "name": "ipython",
    "version": 3
   },
   "file_extension": ".py",
   "mimetype": "text/x-python",
   "name": "python",
   "nbconvert_exporter": "python",
   "pygments_lexer": "ipython3",
   "version": "3.11.5"
  }
 },
 "nbformat": 4,
 "nbformat_minor": 2
}
